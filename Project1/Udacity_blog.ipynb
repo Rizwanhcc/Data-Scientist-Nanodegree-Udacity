{
 "cells": [
  {
   "cell_type": "markdown",
   "metadata": {},
   "source": [
    "# Predicting Credit Card Behavior in United States\n"
   ]
  },
  {
   "cell_type": "markdown",
   "metadata": {},
   "source": [
    "# Section 1: Business Understanding"
   ]
  },
  {
   "cell_type": "markdown",
   "metadata": {},
   "source": [
    "## Question 1: Do household and individual characteristics help predicting credit card behavior ?\n",
    "## Question 2: Are financial literacy and credit card behavior associated ?\n",
    "## Question 3: Does age group of the individual determine credit card behavior patterns ?"
   ]
  },
  {
   "cell_type": "markdown",
   "metadata": {},
   "source": [
    "In this research I will use an open source dataset 'The National Financial Capability Study' (NFCS) provided by FINRA. This dataset is a primary data collected from the US citizens with an interval of three years. The first round of survey was conducted in the year of 2009 following the Global financial turmoil. Later on, second round was conducted in 2012, third in 2015 and most recent survey was conducted in 2018. More detail of the dataset can be found [here](https://www.usfinancialcapability.org/) and can be downloaded [here](https://www.usfinancialcapability.org/downloads.php). This dataset includes a wide range of financial, demographic and professional indicators of American Citizens from all the regions and states. Since dataset includes regional information. This result of this analysis might be useful for banks and other financial institutions as well as for Government to devise credit policy in the different regions based on the credit card behavior of the population.\n"
   ]
  },
  {
   "cell_type": "code",
   "execution_count": 4,
   "metadata": {},
   "outputs": [],
   "source": [
    "##Importing libraries\n",
    "\n",
    "from sklearn.preprocessing import StandardScaler\n",
    "from sklearn.cluster import KMeans\n",
    "from itertools import cycle, islice\n",
    "import matplotlib.pyplot as plt\n",
    "import pandas as pd\n",
    "import numpy as np\n",
    "from pandas.plotting import parallel_coordinates\n",
    "\n",
    "%matplotlib inline"
   ]
  },
  {
   "cell_type": "markdown",
   "metadata": {},
   "source": [
    "# Section 2: Data Understanding"
   ]
  },
  {
   "cell_type": "markdown",
   "metadata": {},
   "source": [
    "## Gather"
   ]
  },
  {
   "cell_type": "code",
   "execution_count": 5,
   "metadata": {},
   "outputs": [],
   "source": [
    "#Import csv dataset and save it as path object\n",
    "path ='/Users/rizwanmushtaq/Desktop/Data_Science/Python_Tutorial/NFCS2018_09_19.csv'\n"
   ]
  },
  {
   "cell_type": "code",
   "execution_count": 6,
   "metadata": {},
   "outputs": [],
   "source": [
    "#read in data with pandas and save it as df1\n",
    "df1 = pd.read_csv(path, dtype= 'unicode', decimal=',')\n"
   ]
  },
  {
   "cell_type": "markdown",
   "metadata": {},
   "source": [
    "## Exploring the data"
   ]
  },
  {
   "cell_type": "code",
   "execution_count": 7,
   "metadata": {},
   "outputs": [
    {
     "data": {
      "text/html": [
       "<div>\n",
       "<style scoped>\n",
       "    .dataframe tbody tr th:only-of-type {\n",
       "        vertical-align: middle;\n",
       "    }\n",
       "\n",
       "    .dataframe tbody tr th {\n",
       "        vertical-align: top;\n",
       "    }\n",
       "\n",
       "    .dataframe thead th {\n",
       "        text-align: right;\n",
       "    }\n",
       "</style>\n",
       "<table border=\"1\" class=\"dataframe\">\n",
       "  <thead>\n",
       "    <tr style=\"text-align: right;\">\n",
       "      <th></th>\n",
       "      <th>TRACK</th>\n",
       "      <th>NFCSID</th>\n",
       "      <th>STATEQ</th>\n",
       "      <th>CENSUSDIV</th>\n",
       "      <th>CENSUSREG</th>\n",
       "      <th>A3</th>\n",
       "      <th>A3Ar_w</th>\n",
       "      <th>A3B</th>\n",
       "      <th>A4A_new_w</th>\n",
       "      <th>A5_2015</th>\n",
       "      <th>...</th>\n",
       "      <th>M21_4</th>\n",
       "      <th>M6</th>\n",
       "      <th>M7</th>\n",
       "      <th>M8</th>\n",
       "      <th>M31</th>\n",
       "      <th>M9</th>\n",
       "      <th>M10</th>\n",
       "      <th>wgt_n2</th>\n",
       "      <th>wgt_d2</th>\n",
       "      <th>wgt_s3</th>\n",
       "    </tr>\n",
       "  </thead>\n",
       "  <tbody>\n",
       "    <tr>\n",
       "      <th>0</th>\n",
       "      <td>2018</td>\n",
       "      <td>2018010001</td>\n",
       "      <td>48</td>\n",
       "      <td>9</td>\n",
       "      <td>4</td>\n",
       "      <td>2</td>\n",
       "      <td>5</td>\n",
       "      <td>11</td>\n",
       "      <td>1</td>\n",
       "      <td>5</td>\n",
       "      <td>...</td>\n",
       "      <td></td>\n",
       "      <td>1</td>\n",
       "      <td>3</td>\n",
       "      <td>98</td>\n",
       "      <td>98</td>\n",
       "      <td>98</td>\n",
       "      <td>1</td>\n",
       "      <td>0.68368306</td>\n",
       "      <td>0.51964208</td>\n",
       "      <td>1.09518877</td>\n",
       "    </tr>\n",
       "    <tr>\n",
       "      <th>1</th>\n",
       "      <td>2018</td>\n",
       "      <td>2018010002</td>\n",
       "      <td>10</td>\n",
       "      <td>5</td>\n",
       "      <td>3</td>\n",
       "      <td>2</td>\n",
       "      <td>2</td>\n",
       "      <td>8</td>\n",
       "      <td>1</td>\n",
       "      <td>6</td>\n",
       "      <td>...</td>\n",
       "      <td></td>\n",
       "      <td>1</td>\n",
       "      <td>3</td>\n",
       "      <td>98</td>\n",
       "      <td>3</td>\n",
       "      <td>1</td>\n",
       "      <td>98</td>\n",
       "      <td>0.80835753</td>\n",
       "      <td>2.51684077</td>\n",
       "      <td>0.92269329</td>\n",
       "    </tr>\n",
       "    <tr>\n",
       "      <th>2</th>\n",
       "      <td>2018</td>\n",
       "      <td>2018010003</td>\n",
       "      <td>44</td>\n",
       "      <td>7</td>\n",
       "      <td>3</td>\n",
       "      <td>2</td>\n",
       "      <td>2</td>\n",
       "      <td>8</td>\n",
       "      <td>1</td>\n",
       "      <td>6</td>\n",
       "      <td>...</td>\n",
       "      <td></td>\n",
       "      <td>1</td>\n",
       "      <td>1</td>\n",
       "      <td>98</td>\n",
       "      <td>98</td>\n",
       "      <td>1</td>\n",
       "      <td>98</td>\n",
       "      <td>1.02155141</td>\n",
       "      <td>1.89619186</td>\n",
       "      <td>0.67109295</td>\n",
       "    </tr>\n",
       "    <tr>\n",
       "      <th>3</th>\n",
       "      <td>2018</td>\n",
       "      <td>2018010004</td>\n",
       "      <td>10</td>\n",
       "      <td>5</td>\n",
       "      <td>3</td>\n",
       "      <td>2</td>\n",
       "      <td>1</td>\n",
       "      <td>7</td>\n",
       "      <td>1</td>\n",
       "      <td>6</td>\n",
       "      <td>...</td>\n",
       "      <td></td>\n",
       "      <td>98</td>\n",
       "      <td>98</td>\n",
       "      <td>4</td>\n",
       "      <td>4</td>\n",
       "      <td>2</td>\n",
       "      <td>98</td>\n",
       "      <td>0.80835753</td>\n",
       "      <td>2.51684077</td>\n",
       "      <td>0.92269329</td>\n",
       "    </tr>\n",
       "    <tr>\n",
       "      <th>4</th>\n",
       "      <td>2018</td>\n",
       "      <td>2018010005</td>\n",
       "      <td>13</td>\n",
       "      <td>8</td>\n",
       "      <td>4</td>\n",
       "      <td>1</td>\n",
       "      <td>2</td>\n",
       "      <td>2</td>\n",
       "      <td>1</td>\n",
       "      <td>6</td>\n",
       "      <td>...</td>\n",
       "      <td></td>\n",
       "      <td>1</td>\n",
       "      <td>3</td>\n",
       "      <td>98</td>\n",
       "      <td>2</td>\n",
       "      <td>1</td>\n",
       "      <td>98</td>\n",
       "      <td>0.4480747</td>\n",
       "      <td>0.61473322</td>\n",
       "      <td>1.23222123</td>\n",
       "    </tr>\n",
       "  </tbody>\n",
       "</table>\n",
       "<p>5 rows × 112 columns</p>\n",
       "</div>"
      ],
      "text/plain": [
       "  TRACK      NFCSID STATEQ CENSUSDIV CENSUSREG A3 A3Ar_w A3B A4A_new_w  \\\n",
       "0  2018  2018010001     48         9         4  2      5  11         1   \n",
       "1  2018  2018010002     10         5         3  2      2   8         1   \n",
       "2  2018  2018010003     44         7         3  2      2   8         1   \n",
       "3  2018  2018010004     10         5         3  2      1   7         1   \n",
       "4  2018  2018010005     13         8         4  1      2   2         1   \n",
       "\n",
       "  A5_2015  ... M21_4  M6  M7  M8 M31  M9 M10      wgt_n2      wgt_d2  \\\n",
       "0       5  ...         1   3  98  98  98   1  0.68368306  0.51964208   \n",
       "1       6  ...         1   3  98   3   1  98  0.80835753  2.51684077   \n",
       "2       6  ...         1   1  98  98   1  98  1.02155141  1.89619186   \n",
       "3       6  ...        98  98   4   4   2  98  0.80835753  2.51684077   \n",
       "4       6  ...         1   3  98   2   1  98   0.4480747  0.61473322   \n",
       "\n",
       "       wgt_s3  \n",
       "0  1.09518877  \n",
       "1  0.92269329  \n",
       "2  0.67109295  \n",
       "3  0.92269329  \n",
       "4  1.23222123  \n",
       "\n",
       "[5 rows x 112 columns]"
      ]
     },
     "execution_count": 7,
     "metadata": {},
     "output_type": "execute_result"
    }
   ],
   "source": [
    "#first look at the data, first five rows\n",
    "df1.head()\n"
   ]
  },
  {
   "cell_type": "code",
   "execution_count": 8,
   "metadata": {},
   "outputs": [
    {
     "data": {
      "text/plain": [
       "(108310, 112)"
      ]
     },
     "execution_count": 8,
     "metadata": {},
     "output_type": "execute_result"
    }
   ],
   "source": [
    "# dataframe shape, number of rows and number of columns\n",
    "df1.shape"
   ]
  },
  {
   "cell_type": "code",
   "execution_count": 9,
   "metadata": {},
   "outputs": [
    {
     "name": "stdout",
     "output_type": "stream",
     "text": [
      "<class 'pandas.core.frame.DataFrame'>\n",
      "RangeIndex: 108310 entries, 0 to 108309\n",
      "Columns: 112 entries, TRACK to wgt_s3\n",
      "dtypes: object(112)\n",
      "memory usage: 92.6+ MB\n"
     ]
    }
   ],
   "source": [
    "#dataframe information\n",
    "df1.info()"
   ]
  },
  {
   "cell_type": "markdown",
   "metadata": {},
   "source": [
    "# Section 3: Data Preparation\n",
    "\n",
    "## Rename data"
   ]
  },
  {
   "cell_type": "code",
   "execution_count": 12,
   "metadata": {},
   "outputs": [],
   "source": [
    "#Renaming required columns and saving it as df2\n",
    "df2 = df1.rename(columns={'A3':'gender','A3Ar_w':'agegrp', \"A3B\":\"agegen\",'A4A_new_w': \"ethn\", 'A5_2015':'edu' , 'A6':'marital' ,  'A7':'living',\n",
    "     'A7A':'maritalvar',  'A8':'hhincome' ,  'AM21':'armservice',  'AM30':'service',  'AM31':'retired' ,\n",
    "    'AM22':'spousearm', 'A9':'prof' ,  'A10':'profspouse', 'A21_2015':'ptimestudent',\n",
    "     'A22_2015':'currentstudent',  'M6':'interest', 'M7':'inflation',  'M8':'bond',  'M31':'cinterest', 'M9':'mortgage', 'M10':'risk',\n",
    "     'J1':'finsatisfacton',  'J2':'willingrisk', 'J3':'spendingincome',  'J5':'savingunforseen',  'J6':'savingchildedu',\n",
    "     'J32':'creditrecord', 'B1':'fininc1',  'B2':'fininc2',  'B4':'fininc3',  'B14':'invest',  'E7':'homemort',  'E15_2015':'mortpayment',\n",
    "    'F2_1':'creditcardpayment', 'F2_3':'minpayment', 'F2_4':'latefee' ,'F2_5': 'limitfee' , 'G20':'unpaidbil' ,\n",
    "    'G25_2':'paydayloan' , 'G23':'toomuchdebt','M20': 'fineducschool' ,\n",
    "     'M21_1':'fineduchschool' ,  'M21_2_2015':'fineduccollege' ,  'M21_3':'fineducepmloyer' , \n",
    "    'M1_1':'finconfdaytoday' , 'M1_2':'finconf_math' ,  'A14':'mostknowledge' ,  'J20':'howconfident', 'STATEQ':'usstate' ,  'CENSUSDIV':'censusdiv' , 'CENSUSREG':'censusreg' }, errors=\"raise\")\n"
   ]
  },
  {
   "cell_type": "markdown",
   "metadata": {},
   "source": [
    "## Select data"
   ]
  },
  {
   "cell_type": "code",
   "execution_count": 38,
   "metadata": {},
   "outputs": [],
   "source": [
    "#selecting required columns and saving it as df3\n",
    "df3 = df2[['gender','agegrp', 'ethn', 'edu', 'marital', 'hhincome', 'armservice',  'service',  'retired',\n",
    "    'spousearm', 'prof', 'profspouse','ptimestudent','currentstudent',  \n",
    "     'finsatisfacton',  'willingrisk', 'spendingincome', 'savingunforseen', 'savingchildedu',\n",
    "     'creditrecord', 'fininc1',  'fininc2',  'fininc3',  'invest',  'homemort',  'mortpayment',\n",
    "    'creditcardpayment', 'minpayment', 'latefee', 'limitfee', 'unpaidbil',\n",
    "    'paydayloan', 'toomuchdebt', 'fineducschool','fineduchschool',  'fineduccollege',  'fineducepmloyer', \n",
    "    'finconfdaytoday', 'finconf_math',  'mostknowledge',  'howconfident', 'usstate',  'censusdiv', 'censusreg',\n",
    "    'interest', 'inflation', 'bond', 'cinterest', 'mortgage', 'risk']]"
   ]
  },
  {
   "cell_type": "markdown",
   "metadata": {},
   "source": [
    "## Clean data"
   ]
  },
  {
   "cell_type": "code",
   "execution_count": 39,
   "metadata": {},
   "outputs": [],
   "source": [
    "##Recoding 99 and 98 and nan (not a number)\n",
    "df3 = df3.replace('99', np.nan)\n",
    "df3 = df3.replace('98', np.nan)\n"
   ]
  },
  {
   "cell_type": "code",
   "execution_count": 40,
   "metadata": {},
   "outputs": [
    {
     "data": {
      "text/html": [
       "<div>\n",
       "<style scoped>\n",
       "    .dataframe tbody tr th:only-of-type {\n",
       "        vertical-align: middle;\n",
       "    }\n",
       "\n",
       "    .dataframe tbody tr th {\n",
       "        vertical-align: top;\n",
       "    }\n",
       "\n",
       "    .dataframe thead th {\n",
       "        text-align: right;\n",
       "    }\n",
       "</style>\n",
       "<table border=\"1\" class=\"dataframe\">\n",
       "  <thead>\n",
       "    <tr style=\"text-align: right;\">\n",
       "      <th></th>\n",
       "      <th>gender</th>\n",
       "      <th>agegrp</th>\n",
       "      <th>ethn</th>\n",
       "      <th>edu</th>\n",
       "      <th>marital</th>\n",
       "      <th>hhincome</th>\n",
       "      <th>armservice</th>\n",
       "      <th>service</th>\n",
       "      <th>retired</th>\n",
       "      <th>spousearm</th>\n",
       "      <th>...</th>\n",
       "      <th>howconfident</th>\n",
       "      <th>usstate</th>\n",
       "      <th>censusdiv</th>\n",
       "      <th>censusreg</th>\n",
       "      <th>interest</th>\n",
       "      <th>inflation</th>\n",
       "      <th>bond</th>\n",
       "      <th>cinterest</th>\n",
       "      <th>mortgage</th>\n",
       "      <th>risk</th>\n",
       "    </tr>\n",
       "  </thead>\n",
       "  <tbody>\n",
       "    <tr>\n",
       "      <th>0</th>\n",
       "      <td>False</td>\n",
       "      <td>False</td>\n",
       "      <td>False</td>\n",
       "      <td>False</td>\n",
       "      <td>False</td>\n",
       "      <td>False</td>\n",
       "      <td>False</td>\n",
       "      <td>False</td>\n",
       "      <td>False</td>\n",
       "      <td>False</td>\n",
       "      <td>...</td>\n",
       "      <td>False</td>\n",
       "      <td>False</td>\n",
       "      <td>False</td>\n",
       "      <td>False</td>\n",
       "      <td>False</td>\n",
       "      <td>False</td>\n",
       "      <td>True</td>\n",
       "      <td>True</td>\n",
       "      <td>True</td>\n",
       "      <td>False</td>\n",
       "    </tr>\n",
       "    <tr>\n",
       "      <th>1</th>\n",
       "      <td>False</td>\n",
       "      <td>False</td>\n",
       "      <td>False</td>\n",
       "      <td>False</td>\n",
       "      <td>False</td>\n",
       "      <td>False</td>\n",
       "      <td>False</td>\n",
       "      <td>False</td>\n",
       "      <td>False</td>\n",
       "      <td>False</td>\n",
       "      <td>...</td>\n",
       "      <td>False</td>\n",
       "      <td>False</td>\n",
       "      <td>False</td>\n",
       "      <td>False</td>\n",
       "      <td>False</td>\n",
       "      <td>False</td>\n",
       "      <td>True</td>\n",
       "      <td>False</td>\n",
       "      <td>False</td>\n",
       "      <td>True</td>\n",
       "    </tr>\n",
       "    <tr>\n",
       "      <th>2</th>\n",
       "      <td>False</td>\n",
       "      <td>False</td>\n",
       "      <td>False</td>\n",
       "      <td>False</td>\n",
       "      <td>False</td>\n",
       "      <td>False</td>\n",
       "      <td>False</td>\n",
       "      <td>False</td>\n",
       "      <td>False</td>\n",
       "      <td>False</td>\n",
       "      <td>...</td>\n",
       "      <td>False</td>\n",
       "      <td>False</td>\n",
       "      <td>False</td>\n",
       "      <td>False</td>\n",
       "      <td>False</td>\n",
       "      <td>False</td>\n",
       "      <td>True</td>\n",
       "      <td>True</td>\n",
       "      <td>False</td>\n",
       "      <td>True</td>\n",
       "    </tr>\n",
       "    <tr>\n",
       "      <th>3</th>\n",
       "      <td>False</td>\n",
       "      <td>False</td>\n",
       "      <td>False</td>\n",
       "      <td>False</td>\n",
       "      <td>False</td>\n",
       "      <td>False</td>\n",
       "      <td>False</td>\n",
       "      <td>False</td>\n",
       "      <td>False</td>\n",
       "      <td>False</td>\n",
       "      <td>...</td>\n",
       "      <td>False</td>\n",
       "      <td>False</td>\n",
       "      <td>False</td>\n",
       "      <td>False</td>\n",
       "      <td>True</td>\n",
       "      <td>True</td>\n",
       "      <td>False</td>\n",
       "      <td>False</td>\n",
       "      <td>False</td>\n",
       "      <td>True</td>\n",
       "    </tr>\n",
       "    <tr>\n",
       "      <th>4</th>\n",
       "      <td>False</td>\n",
       "      <td>False</td>\n",
       "      <td>False</td>\n",
       "      <td>False</td>\n",
       "      <td>False</td>\n",
       "      <td>False</td>\n",
       "      <td>False</td>\n",
       "      <td>False</td>\n",
       "      <td>False</td>\n",
       "      <td>False</td>\n",
       "      <td>...</td>\n",
       "      <td>False</td>\n",
       "      <td>False</td>\n",
       "      <td>False</td>\n",
       "      <td>False</td>\n",
       "      <td>False</td>\n",
       "      <td>False</td>\n",
       "      <td>True</td>\n",
       "      <td>False</td>\n",
       "      <td>False</td>\n",
       "      <td>True</td>\n",
       "    </tr>\n",
       "    <tr>\n",
       "      <th>...</th>\n",
       "      <td>...</td>\n",
       "      <td>...</td>\n",
       "      <td>...</td>\n",
       "      <td>...</td>\n",
       "      <td>...</td>\n",
       "      <td>...</td>\n",
       "      <td>...</td>\n",
       "      <td>...</td>\n",
       "      <td>...</td>\n",
       "      <td>...</td>\n",
       "      <td>...</td>\n",
       "      <td>...</td>\n",
       "      <td>...</td>\n",
       "      <td>...</td>\n",
       "      <td>...</td>\n",
       "      <td>...</td>\n",
       "      <td>...</td>\n",
       "      <td>...</td>\n",
       "      <td>...</td>\n",
       "      <td>...</td>\n",
       "      <td>...</td>\n",
       "    </tr>\n",
       "    <tr>\n",
       "      <th>108305</th>\n",
       "      <td>False</td>\n",
       "      <td>False</td>\n",
       "      <td>False</td>\n",
       "      <td>False</td>\n",
       "      <td>False</td>\n",
       "      <td>False</td>\n",
       "      <td>False</td>\n",
       "      <td>False</td>\n",
       "      <td>False</td>\n",
       "      <td>False</td>\n",
       "      <td>...</td>\n",
       "      <td>False</td>\n",
       "      <td>False</td>\n",
       "      <td>False</td>\n",
       "      <td>False</td>\n",
       "      <td>True</td>\n",
       "      <td>True</td>\n",
       "      <td>True</td>\n",
       "      <td>False</td>\n",
       "      <td>False</td>\n",
       "      <td>True</td>\n",
       "    </tr>\n",
       "    <tr>\n",
       "      <th>108306</th>\n",
       "      <td>False</td>\n",
       "      <td>False</td>\n",
       "      <td>False</td>\n",
       "      <td>False</td>\n",
       "      <td>False</td>\n",
       "      <td>False</td>\n",
       "      <td>False</td>\n",
       "      <td>False</td>\n",
       "      <td>False</td>\n",
       "      <td>False</td>\n",
       "      <td>...</td>\n",
       "      <td>False</td>\n",
       "      <td>False</td>\n",
       "      <td>False</td>\n",
       "      <td>False</td>\n",
       "      <td>False</td>\n",
       "      <td>False</td>\n",
       "      <td>False</td>\n",
       "      <td>False</td>\n",
       "      <td>False</td>\n",
       "      <td>True</td>\n",
       "    </tr>\n",
       "    <tr>\n",
       "      <th>108307</th>\n",
       "      <td>False</td>\n",
       "      <td>False</td>\n",
       "      <td>False</td>\n",
       "      <td>False</td>\n",
       "      <td>False</td>\n",
       "      <td>False</td>\n",
       "      <td>False</td>\n",
       "      <td>False</td>\n",
       "      <td>False</td>\n",
       "      <td>False</td>\n",
       "      <td>...</td>\n",
       "      <td>False</td>\n",
       "      <td>False</td>\n",
       "      <td>False</td>\n",
       "      <td>False</td>\n",
       "      <td>False</td>\n",
       "      <td>False</td>\n",
       "      <td>True</td>\n",
       "      <td>False</td>\n",
       "      <td>False</td>\n",
       "      <td>False</td>\n",
       "    </tr>\n",
       "    <tr>\n",
       "      <th>108308</th>\n",
       "      <td>False</td>\n",
       "      <td>False</td>\n",
       "      <td>False</td>\n",
       "      <td>False</td>\n",
       "      <td>False</td>\n",
       "      <td>False</td>\n",
       "      <td>False</td>\n",
       "      <td>False</td>\n",
       "      <td>False</td>\n",
       "      <td>False</td>\n",
       "      <td>...</td>\n",
       "      <td>False</td>\n",
       "      <td>False</td>\n",
       "      <td>False</td>\n",
       "      <td>False</td>\n",
       "      <td>False</td>\n",
       "      <td>True</td>\n",
       "      <td>False</td>\n",
       "      <td>False</td>\n",
       "      <td>False</td>\n",
       "      <td>False</td>\n",
       "    </tr>\n",
       "    <tr>\n",
       "      <th>108309</th>\n",
       "      <td>False</td>\n",
       "      <td>False</td>\n",
       "      <td>False</td>\n",
       "      <td>False</td>\n",
       "      <td>False</td>\n",
       "      <td>False</td>\n",
       "      <td>False</td>\n",
       "      <td>False</td>\n",
       "      <td>False</td>\n",
       "      <td>False</td>\n",
       "      <td>...</td>\n",
       "      <td>False</td>\n",
       "      <td>False</td>\n",
       "      <td>False</td>\n",
       "      <td>False</td>\n",
       "      <td>False</td>\n",
       "      <td>False</td>\n",
       "      <td>True</td>\n",
       "      <td>False</td>\n",
       "      <td>False</td>\n",
       "      <td>True</td>\n",
       "    </tr>\n",
       "  </tbody>\n",
       "</table>\n",
       "<p>108310 rows × 50 columns</p>\n",
       "</div>"
      ],
      "text/plain": [
       "        gender  agegrp   ethn    edu  marital  hhincome  armservice  service  \\\n",
       "0        False   False  False  False    False     False       False    False   \n",
       "1        False   False  False  False    False     False       False    False   \n",
       "2        False   False  False  False    False     False       False    False   \n",
       "3        False   False  False  False    False     False       False    False   \n",
       "4        False   False  False  False    False     False       False    False   \n",
       "...        ...     ...    ...    ...      ...       ...         ...      ...   \n",
       "108305   False   False  False  False    False     False       False    False   \n",
       "108306   False   False  False  False    False     False       False    False   \n",
       "108307   False   False  False  False    False     False       False    False   \n",
       "108308   False   False  False  False    False     False       False    False   \n",
       "108309   False   False  False  False    False     False       False    False   \n",
       "\n",
       "        retired  spousearm  ...  howconfident  usstate  censusdiv  censusreg  \\\n",
       "0         False      False  ...         False    False      False      False   \n",
       "1         False      False  ...         False    False      False      False   \n",
       "2         False      False  ...         False    False      False      False   \n",
       "3         False      False  ...         False    False      False      False   \n",
       "4         False      False  ...         False    False      False      False   \n",
       "...         ...        ...  ...           ...      ...        ...        ...   \n",
       "108305    False      False  ...         False    False      False      False   \n",
       "108306    False      False  ...         False    False      False      False   \n",
       "108307    False      False  ...         False    False      False      False   \n",
       "108308    False      False  ...         False    False      False      False   \n",
       "108309    False      False  ...         False    False      False      False   \n",
       "\n",
       "        interest  inflation   bond  cinterest  mortgage   risk  \n",
       "0          False      False   True       True      True  False  \n",
       "1          False      False   True      False     False   True  \n",
       "2          False      False   True       True     False   True  \n",
       "3           True       True  False      False     False   True  \n",
       "4          False      False   True      False     False   True  \n",
       "...          ...        ...    ...        ...       ...    ...  \n",
       "108305      True       True   True      False     False   True  \n",
       "108306     False      False  False      False     False   True  \n",
       "108307     False      False   True      False     False  False  \n",
       "108308     False       True  False      False     False  False  \n",
       "108309     False      False   True      False     False   True  \n",
       "\n",
       "[108310 rows x 50 columns]"
      ]
     },
     "execution_count": 40,
     "metadata": {},
     "output_type": "execute_result"
    }
   ],
   "source": [
    "##checking data for missing values (nan)\n",
    "df3.isnull()\n"
   ]
  },
  {
   "cell_type": "code",
   "execution_count": 41,
   "metadata": {},
   "outputs": [],
   "source": [
    "#since we have a large dataset therefore we may remove the missing values. It should also be noted that those missing \n",
    "#values are due to non-response of the respondents and we may assume that this is a case of Missing at Random (MAR), \n",
    "#here is safe to remove the missing data to get the data ready for machine learning approach.\n",
    "rows_before = df3.shape[0]\n",
    "df3 = df3.dropna()\n",
    "rows_after = df3.shape[0]\n"
   ]
  },
  {
   "cell_type": "code",
   "execution_count": 42,
   "metadata": {},
   "outputs": [
    {
     "data": {
      "text/plain": [
       "72354"
      ]
     },
     "execution_count": 42,
     "metadata": {},
     "output_type": "execute_result"
    }
   ],
   "source": [
    "#even after removing the data for missing values we still have huge amount of data for the analysis\n",
    "rows_before - rows_after\n"
   ]
  },
  {
   "cell_type": "markdown",
   "metadata": {},
   "source": [
    "## Construct data"
   ]
  },
  {
   "cell_type": "code",
   "execution_count": 43,
   "metadata": {},
   "outputs": [],
   "source": [
    "#Calculating variables for the analsyis\n",
    "\n",
    "#interest rate\n",
    "df3['inter'] = df3['interest'].replace(['2', '3'], '0')\n",
    "\n",
    "#inflation rate\n",
    "\n",
    "df3['infl'] = df3['inflation'].replace(['1', '2'], '0')\n",
    "df3['infl'] = df3['infl'].replace(['3'], '1')\n",
    "\n",
    "#bond rate\n",
    "\n",
    "df3['bnd'] = df3['bond'].replace(['1', '3', '4'], '0')\n",
    "df3['bnd'] = df3['bnd'].replace(['2'], '1')\n",
    "\n",
    "# Mortgage \n",
    "\n",
    "df3['mort'] = df3['mortgage'].replace(['2'], '0')\n",
    "df3['mort'] = df3['mort'].replace(['2'], '1')\n",
    "\n",
    "# Compound Interest rate\n",
    "\n",
    "df3['cinter'] = df3['cinterest'].replace(['1', '3', '4', ' '], '0')\n",
    "df3['cinter'] = df3['cinter'].replace(['2'], '1')\n",
    "\n",
    "# Risk\n",
    "df3['rsk'] = df3['risk'].replace(['1'], '0')\n",
    "df3['rsk'] = df3['rsk'].replace(['2'], '1')"
   ]
  },
  {
   "cell_type": "code",
   "execution_count": 44,
   "metadata": {},
   "outputs": [],
   "source": [
    "#Converting variables to numberic form\n",
    "\n",
    "df3['rsk'] = pd.to_numeric(df3['rsk'])\n",
    "df3['inter'] = pd.to_numeric(df3['inter'])\n",
    "df3['infl'] = pd.to_numeric(df3['infl'])\n",
    "df3['cinter'] = pd.to_numeric(df3['cinter'])\n",
    "df3['bnd'] = pd.to_numeric(df3['bnd'])\n",
    "df3['mort'] = pd.to_numeric(df3['mort'])"
   ]
  },
  {
   "cell_type": "code",
   "execution_count": 45,
   "metadata": {},
   "outputs": [],
   "source": [
    "##adding financial literacy indicators to form a new variable\n",
    "fl  = df3['rsk'] + df3['mort'] + df3['cinter'] + df3['bnd'] + df3['infl'] + df3['inter']\n",
    "df3['fl'] = fl"
   ]
  },
  {
   "cell_type": "code",
   "execution_count": 46,
   "metadata": {},
   "outputs": [],
   "source": [
    "#converting credit variable to numberic\n",
    "df3['credit'] = pd.to_numeric(df3['creditrecord'], errors='coerce').fillna(0).astype(int)"
   ]
  },
  {
   "cell_type": "code",
   "execution_count": 47,
   "metadata": {},
   "outputs": [
    {
     "data": {
      "text/plain": [
       "1.9478807431304928"
      ]
     },
     "execution_count": 47,
     "metadata": {},
     "output_type": "execute_result"
    }
   ],
   "source": [
    "#checking its mean\n",
    "df3['credit'].mean()"
   ]
  },
  {
   "cell_type": "code",
   "execution_count": 48,
   "metadata": {},
   "outputs": [],
   "source": [
    "# applying lambda function to create a binary variable\n",
    "df3['credit_bin'] = df3['credit'].apply(lambda x: 1 if x >= 2 else 0)"
   ]
  },
  {
   "cell_type": "code",
   "execution_count": 49,
   "metadata": {},
   "outputs": [
    {
     "data": {
      "text/plain": [
       "0    19946\n",
       "1    16010\n",
       "Name: credit_bin, dtype: int64"
      ]
     },
     "execution_count": 49,
     "metadata": {},
     "output_type": "execute_result"
    }
   ],
   "source": [
    "#Checking its frequency\n",
    "df3['credit_bin'].value_counts()"
   ]
  },
  {
   "cell_type": "code",
   "execution_count": 50,
   "metadata": {},
   "outputs": [],
   "source": [
    "#Converting the variables to pandas numberic form\n",
    "\n",
    "#df3['censusreg'] = pd.to_numeric(df3['censusreg'], errors='coerce')\n",
    "df3['gender'] = pd.to_numeric(df3['gender'])\n",
    "df3['agegrp'] = pd.to_numeric(df3['agegrp'])\n",
    "df3['ethn'] = pd.to_numeric(df3['ethn'])\n",
    "df3['edu'] = pd.to_numeric(df3['edu'], errors='coerce').fillna(0).astype(int)\n",
    "df3['marital'] = pd.to_numeric(df3['marital'])\n",
    "df3['hhincome'] = pd.to_numeric(df3['hhincome'])\n",
    "df3['armservice'] = pd.to_numeric(df3['armservice'], errors='coerce').fillna(0).astype(int)\n",
    "df3['retired'] = pd.to_numeric(df3['retired'], errors='coerce').fillna(0).astype(int)\n",
    "df3['prof'] = pd.to_numeric(df3['prof'])\n",
    "df3['profspouse'] = pd.to_numeric(df3['profspouse'], errors='coerce').fillna(0).astype(int)\n",
    "df3['currentstudent'] = pd.to_numeric(df3['currentstudent'], errors='coerce').fillna(0).astype(int)\n",
    "df3['finsatisfacton'] = pd.to_numeric(df3['finsatisfacton'])\n",
    "df3['willingrisk'] = pd.to_numeric(df3['willingrisk'])\n",
    "df3['savingchildedu'] = pd.to_numeric(df3['savingchildedu'], errors='coerce').fillna(0).astype(int)\n",
    "df3['finconfdaytoday'] = pd.to_numeric(df3['finconfdaytoday'])\n",
    "df3['usstate'] = pd.to_numeric(df3['usstate'])\n",
    "df3['censusdiv'] = pd.to_numeric(df3['censusdiv'])\n",
    "df3['censusreg'] = pd.to_numeric(df3['censusreg'])"
   ]
  },
  {
   "cell_type": "markdown",
   "metadata": {},
   "source": [
    "# Section 4: Modeling"
   ]
  },
  {
   "cell_type": "code",
   "execution_count": 51,
   "metadata": {},
   "outputs": [],
   "source": [
    "## selecting feature variables and saving them to Features\n",
    "Features = df3[['gender','agegrp','ethn', 'edu', 'marital', 'hhincome', 'armservice', 'retired','prof',\n",
    "               'profspouse','currentstudent', 'finsatisfacton', 'willingrisk', 'savingchildedu','finconfdaytoday','fl', 'usstate','censusdiv','censusreg']]"
   ]
  },
  {
   "cell_type": "code",
   "execution_count": 52,
   "metadata": {},
   "outputs": [
    {
     "data": {
      "text/plain": [
       "array([[ 1.24002122, -1.93622569, -0.54426605, ..., -0.00968403,\n",
       "        -0.45492667, -0.64656976],\n",
       "       [-0.80643781, -1.28873421, -0.54426605, ..., -0.34800403,\n",
       "        -0.06360267,  0.30016677],\n",
       "       [ 1.24002122,  1.30123169, -0.54426605, ..., -1.09230803,\n",
       "        -0.06360267,  0.30016677],\n",
       "       ...,\n",
       "       [ 1.24002122,  1.30123169, -0.54426605, ...,  0.93761198,\n",
       "        -1.62889868, -1.59330629],\n",
       "       [ 1.24002122,  1.30123169, -0.54426605, ...,  0.93761198,\n",
       "        -1.62889868, -1.59330629],\n",
       "       [ 1.24002122,  1.30123169, -0.54426605, ...,  0.93761198,\n",
       "        -1.62889868, -1.59330629]])"
      ]
     },
     "execution_count": 52,
     "metadata": {},
     "output_type": "execute_result"
    }
   ],
   "source": [
    "# transorming features\n",
    "X = StandardScaler().fit(Features).transform(Features)\n",
    "X"
   ]
  },
  {
   "cell_type": "code",
   "execution_count": 55,
   "metadata": {},
   "outputs": [],
   "source": [
    "# defining target variable as y\n",
    "y = df3['credit_bin'].values\n"
   ]
  },
  {
   "cell_type": "code",
   "execution_count": 56,
   "metadata": {},
   "outputs": [
    {
     "name": "stdout",
     "output_type": "stream",
     "text": [
      "Train set: (28764, 19) (28764,)\n",
      "Test set: (7192, 19) (7192,)\n"
     ]
    }
   ],
   "source": [
    "#here we split the data sets into test and training datasets\n",
    "from sklearn.model_selection import train_test_split\n",
    "X_train, X_test, y_train, y_test = train_test_split( X, y, test_size=0.2, random_state=4)\n",
    "print ('Train set:', X_train.shape,  y_train.shape)\n",
    "print ('Test set:', X_test.shape,  y_test.shape)"
   ]
  },
  {
   "cell_type": "code",
   "execution_count": 57,
   "metadata": {},
   "outputs": [],
   "source": [
    "#In order to apply KNN we need to import library\n",
    "from sklearn.neighbors import KNeighborsClassifier\n"
   ]
  },
  {
   "cell_type": "markdown",
   "metadata": {},
   "source": [
    "\n",
    "# Section 5: Evaluate the Results\n",
    "\n"
   ]
  },
  {
   "cell_type": "markdown",
   "metadata": {},
   "source": [
    "## Question 1: Do household and individual characteristics help predicting credit card behavior ?"
   ]
  },
  {
   "cell_type": "code",
   "execution_count": 58,
   "metadata": {},
   "outputs": [
    {
     "data": {
      "text/plain": [
       "KNeighborsClassifier(n_neighbors=4)"
      ]
     },
     "execution_count": 58,
     "metadata": {},
     "output_type": "execute_result"
    }
   ],
   "source": [
    "k = 4\n",
    "#Train Model and Predict  \n",
    "knn = KNeighborsClassifier(n_neighbors = k).fit(X_train,y_train)\n",
    "knn"
   ]
  },
  {
   "cell_type": "code",
   "execution_count": 59,
   "metadata": {},
   "outputs": [
    {
     "data": {
      "text/plain": [
       "array([0, 0, 1, 1, 0])"
      ]
     },
     "execution_count": 59,
     "metadata": {},
     "output_type": "execute_result"
    }
   ],
   "source": [
    "#predicing with knn\n",
    "yhat = knn.predict(X_test)\n",
    "yhat[0:5]\n"
   ]
  },
  {
   "cell_type": "code",
   "execution_count": 60,
   "metadata": {},
   "outputs": [
    {
     "name": "stdout",
     "output_type": "stream",
     "text": [
      "Train set Accuracy:  0.9624878320122375\n",
      "Test set Accuracy:  0.9502224694104561\n"
     ]
    }
   ],
   "source": [
    "#now we test the accuracy\n",
    "from sklearn import metrics\n",
    "print(\"Train set Accuracy: \", metrics.accuracy_score(y_train, knn.predict(X_train)))\n",
    "print(\"Test set Accuracy: \", metrics.accuracy_score(y_test, yhat))\n"
   ]
  },
  {
   "cell_type": "code",
   "execution_count": 61,
   "metadata": {},
   "outputs": [
    {
     "name": "stdout",
     "output_type": "stream",
     "text": [
      "model\n",
      " KMeans(n_clusters=12)\n"
     ]
    }
   ],
   "source": [
    "# seting number of clusters and fitting the model\n",
    "kmeans = KMeans(n_clusters=12)\n",
    "model = kmeans.fit(X)\n",
    "print(\"model\\n\", model)\n"
   ]
  },
  {
   "cell_type": "code",
   "execution_count": 62,
   "metadata": {},
   "outputs": [
    {
     "data": {
      "text/plain": [
       "array([[-2.22111586e-01, -1.12446921e-01, -6.59833069e-02,\n",
       "        -8.31077349e-01, -3.58267863e-01,  6.24177933e-01,\n",
       "        -6.87764257e-01, -2.75455179e-01, -5.52668340e-01,\n",
       "        -1.23329458e-01, -1.61598596e-01,  8.03551925e-02,\n",
       "         2.33937496e-01, -1.72865097e-02,  2.32203274e-01,\n",
       "         1.72436670e-01, -2.01665822e-01,  7.98337822e-01,\n",
       "         8.22773137e-01],\n",
       "       [ 1.06861587e-01,  1.09351687e+00, -3.68230088e-01,\n",
       "        -2.59910018e-02, -5.73646655e-01,  1.77805107e-01,\n",
       "         2.02617244e-01, -2.26736253e-01,  1.35094600e+00,\n",
       "         1.69769009e+00, -1.61598596e-01,  4.66968202e-01,\n",
       "        -3.20857685e-01, -5.74439099e-01,  3.64837665e-01,\n",
       "         2.94385272e-01,  5.21934926e-02,  1.24086999e-02,\n",
       "         2.87988020e-02],\n",
       "       [-1.14732897e-01, -8.24640127e-02, -3.07747547e-01,\n",
       "         5.14180936e-01, -2.67910496e-01,  5.40484322e-01,\n",
       "         7.53470432e-01, -2.41639898e-01, -5.32448026e-01,\n",
       "        -2.13803278e-01, -1.56962632e-01,  2.37563776e-01,\n",
       "         2.86376590e-01,  3.14334737e-02,  2.28649951e-01,\n",
       "         4.32144963e-01,  1.89182829e-01, -1.08322004e+00,\n",
       "        -1.14135279e+00],\n",
       "       [ 1.23663670e-01, -2.46258020e-01,  1.07382177e-01,\n",
       "        -4.69329840e-01,  5.23211996e-02, -3.45419453e-01,\n",
       "        -2.89448910e-01, -2.38647971e-01, -5.50750556e-02,\n",
       "        -1.48838653e-01, -1.47136133e-01, -5.82359208e-01,\n",
       "        -2.67021863e-01,  1.01266693e-01, -3.01816777e+00,\n",
       "        -3.86090485e-01,  8.84209761e-02, -3.45238668e-02,\n",
       "        -2.54102493e-02],\n",
       "       [-1.83872536e-01, -1.68235476e-01, -3.02491196e-01,\n",
       "        -8.39629764e-01, -2.41586361e-01,  3.23315071e-01,\n",
       "        -1.36695524e+00, -2.77633299e-01, -3.86297936e-01,\n",
       "        -1.45365099e-01, -1.61598596e-01, -1.75379743e-01,\n",
       "         7.69383974e-02,  9.08288175e-02,  1.29741612e-01,\n",
       "         5.65468729e-02,  1.73408138e-01, -1.06824291e+00,\n",
       "        -1.11594672e+00],\n",
       "       [-9.52000181e-02, -9.94567449e-02,  5.83161975e-02,\n",
       "         1.28241223e+00, -2.35269080e-01,  5.47243722e-01,\n",
       "         7.46557395e-01, -1.98730386e-01, -5.42214553e-01,\n",
       "        -2.06592822e-01, -1.55562090e-01,  3.21815625e-01,\n",
       "         3.40094948e-01,  8.06695575e-03,  2.28586789e-01,\n",
       "         6.56135261e-01, -1.42051136e-01,  8.15421913e-01,\n",
       "         8.27046233e-01],\n",
       "       [-6.14047768e-02, -1.29295436e+00,  6.66492906e-01,\n",
       "         5.38849240e-01,  5.36633705e-02, -4.34682049e-01,\n",
       "         2.62203102e-01, -3.93563581e-02, -3.68139140e-01,\n",
       "        -5.63888442e-01,  5.09487380e+00,  4.77261156e-01,\n",
       "         7.65722510e-01,  7.93012456e-02, -4.47145016e-02,\n",
       "        -9.85935034e-01, -1.34641407e-02,  9.01577894e-02,\n",
       "         7.09754330e-02],\n",
       "       [-6.56159952e-01,  7.27938252e-01, -1.51045384e-01,\n",
       "         1.01174440e+00, -1.13802212e-01,  1.73083965e-01,\n",
       "         5.06894693e-02,  3.73167847e+00,  5.32527980e-01,\n",
       "         5.07517119e-01, -1.34757131e-01,  3.64324554e-01,\n",
       "         2.67421443e-02, -2.80543434e-01,  2.51532952e-01,\n",
       "         4.77468694e-01,  2.73760947e-02,  1.31510237e-01,\n",
       "         1.23483949e-01],\n",
       "       [-1.50396344e-02, -7.12920763e-01,  2.96764896e-01,\n",
       "        -5.75758454e-01,  2.19755946e-01, -1.30186959e+00,\n",
       "        -3.68435330e-01, -2.73731169e-01,  9.05114463e-02,\n",
       "        -5.91436881e-01, -1.60275094e-01, -1.02879642e+00,\n",
       "        -5.99320056e-01, -6.66494020e-01, -1.46275371e-01,\n",
       "        -3.96361501e-01, -4.36578836e-03,  2.32706137e-01,\n",
       "         2.67327940e-01],\n",
       "       [ 7.78975340e-02, -9.87700403e-01,  1.07411658e+00,\n",
       "         1.33915544e-01, -1.07789863e-01, -1.88244262e-01,\n",
       "         3.36395887e-01, -1.94229135e-01, -5.10759219e-01,\n",
       "        -4.05659673e-01, -1.61598596e-01,  6.98223778e-01,\n",
       "         9.40233493e-01,  2.89391851e-01,  3.45748603e-02,\n",
       "        -1.53655579e+00, -1.46023198e-01,  9.20172570e-02,\n",
       "         1.21351861e-01],\n",
       "       [ 4.60230553e-01,  8.68741383e-01, -2.12534633e-01,\n",
       "        -1.12346677e-01,  2.20937177e+00, -7.71203296e-01,\n",
       "         1.13794649e-01, -2.32259646e-01,  7.83134417e-01,\n",
       "        -8.65409534e-01, -1.58153168e-01, -1.28907192e-01,\n",
       "        -4.98979845e-01, -4.88060719e-01,  2.28557265e-01,\n",
       "        -9.09241392e-04, -5.30383885e-02,  1.37098248e-02,\n",
       "         1.61154977e-02],\n",
       "       [ 4.75277693e-01, -5.09879940e-01,  2.55316560e-01,\n",
       "        -4.77347573e-01, -9.19350553e-02, -5.18270699e-01,\n",
       "        -1.41545940e-01, -2.64484043e-01, -2.28696265e-01,\n",
       "        -6.55830360e-02, -1.53383009e-01, -9.77534947e-01,\n",
       "        -5.50989639e-01,  1.72405132e+00, -1.67442608e-01,\n",
       "        -3.48740946e-01, -4.54723314e-03,  3.00062311e-01,\n",
       "         3.15966367e-01]])"
      ]
     },
     "execution_count": 62,
     "metadata": {},
     "output_type": "execute_result"
    }
   ],
   "source": [
    "# defining centers for the data \n",
    "centers = model.cluster_centers_\n",
    "centers\n"
   ]
  },
  {
   "cell_type": "code",
   "execution_count": 63,
   "metadata": {},
   "outputs": [],
   "source": [
    "def pd_centers(featuresUsed, centers):\n",
    "    \n",
    "    \"\"\"\n",
    "    This Function creates a DataFrame \n",
    "    with a column for Cluster Number\n",
    "    \n",
    "    Zip with a column called 'prediction' (index)\n",
    "    \n",
    "    Convert to pandas data frame for plotting\n",
    "\n",
    "    \"\"\"\n",
    "    colNames = list(featuresUsed)\n",
    "    colNames.append('prediction')\n",
    "    \n",
    "    Z = [np.append(A, index) for index, A in enumerate(centers)]\n",
    "\n",
    "    P = pd.DataFrame(Z, columns=colNames)\n",
    "    P['prediction'] = P['prediction'].astype(int)\n",
    "    \n",
    "    return P\n"
   ]
  },
  {
   "cell_type": "code",
   "execution_count": 64,
   "metadata": {},
   "outputs": [],
   "source": [
    "\n",
    "def parallel_plot(data):\n",
    "    \"\"\"\n",
    "    In this Function we will create Parallel Plots\n",
    "    it takes input as data and returns plot\n",
    "    \"\"\"\n",
    "    my_colors = list(islice(cycle(['b', 'r', 'g', 'y', 'k']), None, len(data)))\n",
    "    plt.figure(figsize=(15,8)).gca().axes.set_ylim([-3,+3])\n",
    "    parallel_coordinates(data, 'prediction', color = my_colors, marker='o')\n",
    "    \n",
    "    \n",
    "    "
   ]
  },
  {
   "cell_type": "code",
   "execution_count": 65,
   "metadata": {},
   "outputs": [
    {
     "data": {
      "text/html": [
       "<div>\n",
       "<style scoped>\n",
       "    .dataframe tbody tr th:only-of-type {\n",
       "        vertical-align: middle;\n",
       "    }\n",
       "\n",
       "    .dataframe tbody tr th {\n",
       "        vertical-align: top;\n",
       "    }\n",
       "\n",
       "    .dataframe thead th {\n",
       "        text-align: right;\n",
       "    }\n",
       "</style>\n",
       "<table border=\"1\" class=\"dataframe\">\n",
       "  <thead>\n",
       "    <tr style=\"text-align: right;\">\n",
       "      <th></th>\n",
       "      <th>gender</th>\n",
       "      <th>agegrp</th>\n",
       "      <th>ethn</th>\n",
       "      <th>edu</th>\n",
       "      <th>marital</th>\n",
       "      <th>hhincome</th>\n",
       "      <th>armservice</th>\n",
       "      <th>retired</th>\n",
       "      <th>prof</th>\n",
       "      <th>profspouse</th>\n",
       "      <th>currentstudent</th>\n",
       "      <th>finsatisfacton</th>\n",
       "      <th>willingrisk</th>\n",
       "      <th>savingchildedu</th>\n",
       "      <th>finconfdaytoday</th>\n",
       "      <th>fl</th>\n",
       "      <th>usstate</th>\n",
       "      <th>censusdiv</th>\n",
       "      <th>censusreg</th>\n",
       "      <th>prediction</th>\n",
       "    </tr>\n",
       "  </thead>\n",
       "  <tbody>\n",
       "    <tr>\n",
       "      <th>0</th>\n",
       "      <td>-0.222112</td>\n",
       "      <td>-0.112447</td>\n",
       "      <td>-0.065983</td>\n",
       "      <td>-0.831077</td>\n",
       "      <td>-0.358268</td>\n",
       "      <td>0.624178</td>\n",
       "      <td>-0.687764</td>\n",
       "      <td>-0.275455</td>\n",
       "      <td>-0.552668</td>\n",
       "      <td>-0.123329</td>\n",
       "      <td>-0.161599</td>\n",
       "      <td>0.080355</td>\n",
       "      <td>0.233937</td>\n",
       "      <td>-0.017287</td>\n",
       "      <td>0.232203</td>\n",
       "      <td>0.172437</td>\n",
       "      <td>-0.201666</td>\n",
       "      <td>0.798338</td>\n",
       "      <td>0.822773</td>\n",
       "      <td>0</td>\n",
       "    </tr>\n",
       "    <tr>\n",
       "      <th>1</th>\n",
       "      <td>0.106862</td>\n",
       "      <td>1.093517</td>\n",
       "      <td>-0.368230</td>\n",
       "      <td>-0.025991</td>\n",
       "      <td>-0.573647</td>\n",
       "      <td>0.177805</td>\n",
       "      <td>0.202617</td>\n",
       "      <td>-0.226736</td>\n",
       "      <td>1.350946</td>\n",
       "      <td>1.697690</td>\n",
       "      <td>-0.161599</td>\n",
       "      <td>0.466968</td>\n",
       "      <td>-0.320858</td>\n",
       "      <td>-0.574439</td>\n",
       "      <td>0.364838</td>\n",
       "      <td>0.294385</td>\n",
       "      <td>0.052193</td>\n",
       "      <td>0.012409</td>\n",
       "      <td>0.028799</td>\n",
       "      <td>1</td>\n",
       "    </tr>\n",
       "    <tr>\n",
       "      <th>2</th>\n",
       "      <td>-0.114733</td>\n",
       "      <td>-0.082464</td>\n",
       "      <td>-0.307748</td>\n",
       "      <td>0.514181</td>\n",
       "      <td>-0.267910</td>\n",
       "      <td>0.540484</td>\n",
       "      <td>0.753470</td>\n",
       "      <td>-0.241640</td>\n",
       "      <td>-0.532448</td>\n",
       "      <td>-0.213803</td>\n",
       "      <td>-0.156963</td>\n",
       "      <td>0.237564</td>\n",
       "      <td>0.286377</td>\n",
       "      <td>0.031433</td>\n",
       "      <td>0.228650</td>\n",
       "      <td>0.432145</td>\n",
       "      <td>0.189183</td>\n",
       "      <td>-1.083220</td>\n",
       "      <td>-1.141353</td>\n",
       "      <td>2</td>\n",
       "    </tr>\n",
       "    <tr>\n",
       "      <th>3</th>\n",
       "      <td>0.123664</td>\n",
       "      <td>-0.246258</td>\n",
       "      <td>0.107382</td>\n",
       "      <td>-0.469330</td>\n",
       "      <td>0.052321</td>\n",
       "      <td>-0.345419</td>\n",
       "      <td>-0.289449</td>\n",
       "      <td>-0.238648</td>\n",
       "      <td>-0.055075</td>\n",
       "      <td>-0.148839</td>\n",
       "      <td>-0.147136</td>\n",
       "      <td>-0.582359</td>\n",
       "      <td>-0.267022</td>\n",
       "      <td>0.101267</td>\n",
       "      <td>-3.018168</td>\n",
       "      <td>-0.386090</td>\n",
       "      <td>0.088421</td>\n",
       "      <td>-0.034524</td>\n",
       "      <td>-0.025410</td>\n",
       "      <td>3</td>\n",
       "    </tr>\n",
       "    <tr>\n",
       "      <th>4</th>\n",
       "      <td>-0.183873</td>\n",
       "      <td>-0.168235</td>\n",
       "      <td>-0.302491</td>\n",
       "      <td>-0.839630</td>\n",
       "      <td>-0.241586</td>\n",
       "      <td>0.323315</td>\n",
       "      <td>-1.366955</td>\n",
       "      <td>-0.277633</td>\n",
       "      <td>-0.386298</td>\n",
       "      <td>-0.145365</td>\n",
       "      <td>-0.161599</td>\n",
       "      <td>-0.175380</td>\n",
       "      <td>0.076938</td>\n",
       "      <td>0.090829</td>\n",
       "      <td>0.129742</td>\n",
       "      <td>0.056547</td>\n",
       "      <td>0.173408</td>\n",
       "      <td>-1.068243</td>\n",
       "      <td>-1.115947</td>\n",
       "      <td>4</td>\n",
       "    </tr>\n",
       "    <tr>\n",
       "      <th>5</th>\n",
       "      <td>-0.095200</td>\n",
       "      <td>-0.099457</td>\n",
       "      <td>0.058316</td>\n",
       "      <td>1.282412</td>\n",
       "      <td>-0.235269</td>\n",
       "      <td>0.547244</td>\n",
       "      <td>0.746557</td>\n",
       "      <td>-0.198730</td>\n",
       "      <td>-0.542215</td>\n",
       "      <td>-0.206593</td>\n",
       "      <td>-0.155562</td>\n",
       "      <td>0.321816</td>\n",
       "      <td>0.340095</td>\n",
       "      <td>0.008067</td>\n",
       "      <td>0.228587</td>\n",
       "      <td>0.656135</td>\n",
       "      <td>-0.142051</td>\n",
       "      <td>0.815422</td>\n",
       "      <td>0.827046</td>\n",
       "      <td>5</td>\n",
       "    </tr>\n",
       "    <tr>\n",
       "      <th>6</th>\n",
       "      <td>-0.061405</td>\n",
       "      <td>-1.292954</td>\n",
       "      <td>0.666493</td>\n",
       "      <td>0.538849</td>\n",
       "      <td>0.053663</td>\n",
       "      <td>-0.434682</td>\n",
       "      <td>0.262203</td>\n",
       "      <td>-0.039356</td>\n",
       "      <td>-0.368139</td>\n",
       "      <td>-0.563888</td>\n",
       "      <td>5.094874</td>\n",
       "      <td>0.477261</td>\n",
       "      <td>0.765723</td>\n",
       "      <td>0.079301</td>\n",
       "      <td>-0.044715</td>\n",
       "      <td>-0.985935</td>\n",
       "      <td>-0.013464</td>\n",
       "      <td>0.090158</td>\n",
       "      <td>0.070975</td>\n",
       "      <td>6</td>\n",
       "    </tr>\n",
       "    <tr>\n",
       "      <th>7</th>\n",
       "      <td>-0.656160</td>\n",
       "      <td>0.727938</td>\n",
       "      <td>-0.151045</td>\n",
       "      <td>1.011744</td>\n",
       "      <td>-0.113802</td>\n",
       "      <td>0.173084</td>\n",
       "      <td>0.050689</td>\n",
       "      <td>3.731678</td>\n",
       "      <td>0.532528</td>\n",
       "      <td>0.507517</td>\n",
       "      <td>-0.134757</td>\n",
       "      <td>0.364325</td>\n",
       "      <td>0.026742</td>\n",
       "      <td>-0.280543</td>\n",
       "      <td>0.251533</td>\n",
       "      <td>0.477469</td>\n",
       "      <td>0.027376</td>\n",
       "      <td>0.131510</td>\n",
       "      <td>0.123484</td>\n",
       "      <td>7</td>\n",
       "    </tr>\n",
       "    <tr>\n",
       "      <th>8</th>\n",
       "      <td>-0.015040</td>\n",
       "      <td>-0.712921</td>\n",
       "      <td>0.296765</td>\n",
       "      <td>-0.575758</td>\n",
       "      <td>0.219756</td>\n",
       "      <td>-1.301870</td>\n",
       "      <td>-0.368435</td>\n",
       "      <td>-0.273731</td>\n",
       "      <td>0.090511</td>\n",
       "      <td>-0.591437</td>\n",
       "      <td>-0.160275</td>\n",
       "      <td>-1.028796</td>\n",
       "      <td>-0.599320</td>\n",
       "      <td>-0.666494</td>\n",
       "      <td>-0.146275</td>\n",
       "      <td>-0.396362</td>\n",
       "      <td>-0.004366</td>\n",
       "      <td>0.232706</td>\n",
       "      <td>0.267328</td>\n",
       "      <td>8</td>\n",
       "    </tr>\n",
       "    <tr>\n",
       "      <th>9</th>\n",
       "      <td>0.077898</td>\n",
       "      <td>-0.987700</td>\n",
       "      <td>1.074117</td>\n",
       "      <td>0.133916</td>\n",
       "      <td>-0.107790</td>\n",
       "      <td>-0.188244</td>\n",
       "      <td>0.336396</td>\n",
       "      <td>-0.194229</td>\n",
       "      <td>-0.510759</td>\n",
       "      <td>-0.405660</td>\n",
       "      <td>-0.161599</td>\n",
       "      <td>0.698224</td>\n",
       "      <td>0.940233</td>\n",
       "      <td>0.289392</td>\n",
       "      <td>0.034575</td>\n",
       "      <td>-1.536556</td>\n",
       "      <td>-0.146023</td>\n",
       "      <td>0.092017</td>\n",
       "      <td>0.121352</td>\n",
       "      <td>9</td>\n",
       "    </tr>\n",
       "    <tr>\n",
       "      <th>10</th>\n",
       "      <td>0.460231</td>\n",
       "      <td>0.868741</td>\n",
       "      <td>-0.212535</td>\n",
       "      <td>-0.112347</td>\n",
       "      <td>2.209372</td>\n",
       "      <td>-0.771203</td>\n",
       "      <td>0.113795</td>\n",
       "      <td>-0.232260</td>\n",
       "      <td>0.783134</td>\n",
       "      <td>-0.865410</td>\n",
       "      <td>-0.158153</td>\n",
       "      <td>-0.128907</td>\n",
       "      <td>-0.498980</td>\n",
       "      <td>-0.488061</td>\n",
       "      <td>0.228557</td>\n",
       "      <td>-0.000909</td>\n",
       "      <td>-0.053038</td>\n",
       "      <td>0.013710</td>\n",
       "      <td>0.016115</td>\n",
       "      <td>10</td>\n",
       "    </tr>\n",
       "    <tr>\n",
       "      <th>11</th>\n",
       "      <td>0.475278</td>\n",
       "      <td>-0.509880</td>\n",
       "      <td>0.255317</td>\n",
       "      <td>-0.477348</td>\n",
       "      <td>-0.091935</td>\n",
       "      <td>-0.518271</td>\n",
       "      <td>-0.141546</td>\n",
       "      <td>-0.264484</td>\n",
       "      <td>-0.228696</td>\n",
       "      <td>-0.065583</td>\n",
       "      <td>-0.153383</td>\n",
       "      <td>-0.977535</td>\n",
       "      <td>-0.550990</td>\n",
       "      <td>1.724051</td>\n",
       "      <td>-0.167443</td>\n",
       "      <td>-0.348741</td>\n",
       "      <td>-0.004547</td>\n",
       "      <td>0.300062</td>\n",
       "      <td>0.315966</td>\n",
       "      <td>11</td>\n",
       "    </tr>\n",
       "  </tbody>\n",
       "</table>\n",
       "</div>"
      ],
      "text/plain": [
       "      gender    agegrp      ethn       edu   marital  hhincome  armservice  \\\n",
       "0  -0.222112 -0.112447 -0.065983 -0.831077 -0.358268  0.624178   -0.687764   \n",
       "1   0.106862  1.093517 -0.368230 -0.025991 -0.573647  0.177805    0.202617   \n",
       "2  -0.114733 -0.082464 -0.307748  0.514181 -0.267910  0.540484    0.753470   \n",
       "3   0.123664 -0.246258  0.107382 -0.469330  0.052321 -0.345419   -0.289449   \n",
       "4  -0.183873 -0.168235 -0.302491 -0.839630 -0.241586  0.323315   -1.366955   \n",
       "5  -0.095200 -0.099457  0.058316  1.282412 -0.235269  0.547244    0.746557   \n",
       "6  -0.061405 -1.292954  0.666493  0.538849  0.053663 -0.434682    0.262203   \n",
       "7  -0.656160  0.727938 -0.151045  1.011744 -0.113802  0.173084    0.050689   \n",
       "8  -0.015040 -0.712921  0.296765 -0.575758  0.219756 -1.301870   -0.368435   \n",
       "9   0.077898 -0.987700  1.074117  0.133916 -0.107790 -0.188244    0.336396   \n",
       "10  0.460231  0.868741 -0.212535 -0.112347  2.209372 -0.771203    0.113795   \n",
       "11  0.475278 -0.509880  0.255317 -0.477348 -0.091935 -0.518271   -0.141546   \n",
       "\n",
       "     retired      prof  profspouse  currentstudent  finsatisfacton  \\\n",
       "0  -0.275455 -0.552668   -0.123329       -0.161599        0.080355   \n",
       "1  -0.226736  1.350946    1.697690       -0.161599        0.466968   \n",
       "2  -0.241640 -0.532448   -0.213803       -0.156963        0.237564   \n",
       "3  -0.238648 -0.055075   -0.148839       -0.147136       -0.582359   \n",
       "4  -0.277633 -0.386298   -0.145365       -0.161599       -0.175380   \n",
       "5  -0.198730 -0.542215   -0.206593       -0.155562        0.321816   \n",
       "6  -0.039356 -0.368139   -0.563888        5.094874        0.477261   \n",
       "7   3.731678  0.532528    0.507517       -0.134757        0.364325   \n",
       "8  -0.273731  0.090511   -0.591437       -0.160275       -1.028796   \n",
       "9  -0.194229 -0.510759   -0.405660       -0.161599        0.698224   \n",
       "10 -0.232260  0.783134   -0.865410       -0.158153       -0.128907   \n",
       "11 -0.264484 -0.228696   -0.065583       -0.153383       -0.977535   \n",
       "\n",
       "    willingrisk  savingchildedu  finconfdaytoday        fl   usstate  \\\n",
       "0      0.233937       -0.017287         0.232203  0.172437 -0.201666   \n",
       "1     -0.320858       -0.574439         0.364838  0.294385  0.052193   \n",
       "2      0.286377        0.031433         0.228650  0.432145  0.189183   \n",
       "3     -0.267022        0.101267        -3.018168 -0.386090  0.088421   \n",
       "4      0.076938        0.090829         0.129742  0.056547  0.173408   \n",
       "5      0.340095        0.008067         0.228587  0.656135 -0.142051   \n",
       "6      0.765723        0.079301        -0.044715 -0.985935 -0.013464   \n",
       "7      0.026742       -0.280543         0.251533  0.477469  0.027376   \n",
       "8     -0.599320       -0.666494        -0.146275 -0.396362 -0.004366   \n",
       "9      0.940233        0.289392         0.034575 -1.536556 -0.146023   \n",
       "10    -0.498980       -0.488061         0.228557 -0.000909 -0.053038   \n",
       "11    -0.550990        1.724051        -0.167443 -0.348741 -0.004547   \n",
       "\n",
       "    censusdiv  censusreg  prediction  \n",
       "0    0.798338   0.822773           0  \n",
       "1    0.012409   0.028799           1  \n",
       "2   -1.083220  -1.141353           2  \n",
       "3   -0.034524  -0.025410           3  \n",
       "4   -1.068243  -1.115947           4  \n",
       "5    0.815422   0.827046           5  \n",
       "6    0.090158   0.070975           6  \n",
       "7    0.131510   0.123484           7  \n",
       "8    0.232706   0.267328           8  \n",
       "9    0.092017   0.121352           9  \n",
       "10   0.013710   0.016115          10  \n",
       "11   0.300062   0.315966          11  "
      ]
     },
     "execution_count": 65,
     "metadata": {},
     "output_type": "execute_result"
    }
   ],
   "source": [
    "#find centers of the data\n",
    "P = pd_centers(Features, centers)\n",
    "P\n"
   ]
  },
  {
   "cell_type": "code",
   "execution_count": 37,
   "metadata": {},
   "outputs": [
    {
     "data": {
      "image/png": "[encoded data removed]",
      "text/plain": [
       "<Figure size 1080x576 with 1 Axes>"
      ]
     },
     "metadata": {
      "needs_background": "light"
     },
     "output_type": "display_data"
    }
   ],
   "source": [
    "parallel_plot(P[P['edu'] < 0.4])"
   ]
  },
  {
   "cell_type": "code",
   "execution_count": 38,
   "metadata": {},
   "outputs": [
    {
     "name": "stderr",
     "output_type": "stream",
     "text": [
      "<ipython-input-38-959eec61ca19>:1: UserWarning: Boolean Series key will be reindexed to match DataFrame index.\n",
      "  parallel_plot(P[(P['fl'] > 0.5) & (df3['prof'] > 0.4)])\n",
      "No handles with labels found to put in legend.\n"
     ]
    },
    {
     "data": {
      "image/png": "[encoded data removed]",
      "text/plain": [
       "<Figure size 1080x576 with 1 Axes>"
      ]
     },
     "metadata": {
      "needs_background": "light"
     },
     "output_type": "display_data"
    }
   ],
   "source": [
    "parallel_plot(P[(P['fl'] > 0.5) & (df3['prof'] > 0.4)])"
   ]
  },
  {
   "cell_type": "code",
   "execution_count": 39,
   "metadata": {},
   "outputs": [
    {
     "data": {
      "image/png": "[encoded data removed]",
      "text/plain": [
       "<Figure size 1080x576 with 1 Axes>"
      ]
     },
     "metadata": {
      "needs_background": "light"
     },
     "output_type": "display_data"
    }
   ],
   "source": [
    "parallel_plot(P[P['fl'] > 0.5])"
   ]
  },
  {
   "cell_type": "code",
   "execution_count": null,
   "metadata": {},
   "outputs": [],
   "source": [
    "# This figure gives us the centroids with normalized data, we can observe a significant number of identical clusters. For instance if we see, red, green, black blue are the identical clusters and preditcted by the same features i.e., demographic and professional"
   ]
  },
  {
   "cell_type": "markdown",
   "metadata": {},
   "source": [
    "## Question 2: Are financial literacy and credit card behavior associated ?"
   ]
  },
  {
   "cell_type": "code",
   "execution_count": 41,
   "metadata": {},
   "outputs": [
    {
     "data": {
      "image/png": "[encoded data removed]",
      "text/plain": [
       "<Figure size 432x288 with 3 Axes>"
      ]
     },
     "metadata": {
      "needs_background": "light"
     },
     "output_type": "display_data"
    }
   ],
   "source": [
    "from statsmodels.graphics.mosaicplot import mosaic\n",
    "import matplotlib.pyplot as plt\n",
    "import pandas\n",
    "\n",
    "mosaic(df3, ['fl', 'credit_bin'])\n",
    "plt.show()"
   ]
  },
  {
   "cell_type": "code",
   "execution_count": null,
   "metadata": {},
   "outputs": [],
   "source": [
    "#Above figure shows mosaic plot, here, I use mosaic plot to examine the association between my DV and other independent variables such as financial literacy. Financial literacy ranges from 0-6, as we can see higher financial literacy falls in category 1 meaning that the respondants with higher financial knowledge tend to possess good credit card behavior and vice versa."
   ]
  },
  {
   "cell_type": "markdown",
   "metadata": {},
   "source": [
    "## Question 3: Does age group of the individual determine credit card behavior patterns ?\n"
   ]
  },
  {
   "cell_type": "code",
   "execution_count": 42,
   "metadata": {},
   "outputs": [
    {
     "data": {
      "image/png": "[encoded data removed]",
      "text/plain": [
       "<Figure size 432x288 with 3 Axes>"
      ]
     },
     "metadata": {
      "needs_background": "light"
     },
     "output_type": "display_data"
    }
   ],
   "source": [
    "## Age group and credit card behavior\n",
    "mosaic(df3, [ 'agegrp', 'credit_bin'])\n",
    "plt.show()"
   ]
  },
  {
   "cell_type": "code",
   "execution_count": null,
   "metadata": {},
   "outputs": [],
   "source": [
    "#Above figure shows mosaic plot of age group and credit card record. Here, I use mosaic plot to examine the association between my DV and other independent variables such as age group of the respondants. Age group ranges from 1-6, as we can see middle age group from 4-6 have better credit record as compared to young group 1-3. Keeping other things constant, we can fairly conclude that credit record improves with age."
   ]
  },
  {
   "cell_type": "code",
   "execution_count": 43,
   "metadata": {},
   "outputs": [
    {
     "name": "stdout",
     "output_type": "stream",
     "text": [
      "[[2929  291]\n",
      " [  67 3905]]\n"
     ]
    }
   ],
   "source": [
    "#Additional analysis, model evaluation\n",
    "#function imported from the course\n",
    "#\n",
    "from sklearn.metrics import classification_report, confusion_matrix\n",
    "import itertools\n",
    "def plot_confusion_matrix(cm, classes,\n",
    "                          normalize=False,\n",
    "                          title='Confusion matrix',\n",
    "                          cmap=plt.cm.Blues):\n",
    "    \"\"\"\n",
    "    This function prints and plots the confusion matrix.\n",
    "    Normalization can be applied by setting `normalize=True`.\n",
    "    \"\"\"\n",
    "    if normalize:\n",
    "        cm = cm.astype('float') / cm.sum(axis=1)[:, np.newaxis]\n",
    "        print(\"Normalized confusion matrix\")\n",
    "    else:\n",
    "        print('Confusion matrix, without normalization')\n",
    "\n",
    "    print(cm)\n",
    "\n",
    "    plt.imshow(cm, interpolation='nearest', cmap=cmap)\n",
    "    plt.title(title)\n",
    "    plt.colorbar()\n",
    "    tick_marks = np.arange(len(classes))\n",
    "    plt.xticks(tick_marks, classes, rotation=45)\n",
    "    plt.yticks(tick_marks, classes)\n",
    "\n",
    "    fmt = '.2f' if normalize else 'd'\n",
    "    thresh = cm.max() / 2.\n",
    "    for i, j in itertools.product(range(cm.shape[0]), range(cm.shape[1])):\n",
    "        plt.text(j, i, format(cm[i, j], fmt),\n",
    "                 horizontalalignment=\"center\",\n",
    "                 color=\"white\" if cm[i, j] > thresh else \"black\")\n",
    "\n",
    "    plt.tight_layout()\n",
    "    plt.ylabel('True label')\n",
    "    plt.xlabel('Predicted label')\n",
    "print(confusion_matrix(y_test, yhat, labels=[1,0]))"
   ]
  },
  {
   "cell_type": "code",
   "execution_count": 44,
   "metadata": {},
   "outputs": [
    {
     "name": "stdout",
     "output_type": "stream",
     "text": [
      "Confusion matrix, without normalization\n",
      "[[2929  291]\n",
      " [  67 3905]]\n"
     ]
    },
    {
     "data": {
      "image/png": "[encoded data removed]",
      "text/plain": [
       "<Figure size 432x288 with 2 Axes>"
      ]
     },
     "metadata": {
      "needs_background": "light"
     },
     "output_type": "display_data"
    }
   ],
   "source": [
    "# Compute confusion matrix\n",
    "cnf_matrix = confusion_matrix(y_test, yhat, labels=[1,0])\n",
    "np.set_printoptions(precision=2)\n",
    "\n",
    "\n",
    "# Plot non-normalized confusion matrix\n",
    "plt.figure()\n",
    "plot_confusion_matrix(cnf_matrix, classes=['credit_bin=1','credit_bin=0'],normalize= False,  title='Confusion matrix')"
   ]
  }
 ],
 "metadata": {
  "kernelspec": {
   "display_name": "Python 3.8.3 64-bit",
   "language": "python",
   "name": "python38364bitc570e726e62d4bce9d8172250984dd88"
  },
  "language_info": {
   "codemirror_mode": {
    "name": "ipython",
    "version": 3
   },
   "file_extension": ".py",
   "mimetype": "text/x-python",
   "name": "python",
   "nbconvert_exporter": "python",
   "pygments_lexer": "ipython3",
   "version": "3.8.5"
  }
 },
 "nbformat": 4,
 "nbformat_minor": 4
}
