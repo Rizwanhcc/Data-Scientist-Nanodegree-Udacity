{
 "cells": [
  {
   "cell_type": "markdown",
   "metadata": {},
   "source": [
    "# NFCS DATA in United States\n"
   ]
  },
  {
   "cell_type": "markdown",
   "metadata": {},
   "source": [
    "## Introduction and Background"
   ]
  },
  {
   "cell_type": "markdown",
   "metadata": {},
   "source": [
    "## Data Description\n"
   ]
  },
  {
   "cell_type": "markdown",
   "metadata": {},
   "source": [
    "In this research I will use an open source dataset 'The National Financial Capability Study' (NFCS) provided by FINRA. This dataset is a primary data collected from the US citizens with an interval of three years. The first round of survey was conducted in the year of 2009 following the Global financial turmoil. Later on, second round was conducted in 2012, third in 2015 and most recent survey was conducted in 2018. More detail of the dataset can be found [here](https://www.usfinancialcapability.org/) and can be downloaded [here](https://www.usfinancialcapability.org/downloads.php). This dataset includes a wide range of financial, demographic and professional indicators of American Citizens from all the regions and states. Since dataset includes regional information, I will use Foursquare API to access Foursquare location data for US to compare the US states based on credit card behavior. I will combine the NFCS dataset with the US location data in order to explore the areas and states with good credit records and bad credit records. This result of this analysis might be useful for banks and other financial institutions as well as for Government to devise credit policy in the different regions based on the credit card behavior of the population.\n"
   ]
  },
  {
   "cell_type": "code",
   "execution_count": 1,
   "metadata": {},
   "outputs": [],
   "source": [
    "##Importing libraries\n",
    "\n",
    "from sklearn.preprocessing import StandardScaler\n",
    "from sklearn.cluster import KMeans\n",
    "from itertools import cycle, islice\n",
    "import matplotlib.pyplot as plt\n",
    "import pandas as pd\n",
    "import numpy as np\n",
    "from pandas.plotting import parallel_coordinates\n",
    "\n",
    "%matplotlib inline"
   ]
  },
  {
   "cell_type": "code",
   "execution_count": 2,
   "metadata": {},
   "outputs": [],
   "source": [
    "path ='/Users/rizwanmushtaq/Desktop/Data_Science/Python_Tutorial/NFCS2018_09_19.csv'\n"
   ]
  },
  {
   "cell_type": "code",
   "execution_count": 3,
   "metadata": {},
   "outputs": [],
   "source": [
    "df1 = pd.read_csv(path, dtype= 'unicode', decimal=',')\n"
   ]
  },
  {
   "cell_type": "code",
   "execution_count": 4,
   "metadata": {},
   "outputs": [
    {
     "data": {
      "text/html": [
       "<div>\n",
       "<style scoped>\n",
       "    .dataframe tbody tr th:only-of-type {\n",
       "        vertical-align: middle;\n",
       "    }\n",
       "\n",
       "    .dataframe tbody tr th {\n",
       "        vertical-align: top;\n",
       "    }\n",
       "\n",
       "    .dataframe thead th {\n",
       "        text-align: right;\n",
       "    }\n",
       "</style>\n",
       "<table border=\"1\" class=\"dataframe\">\n",
       "  <thead>\n",
       "    <tr style=\"text-align: right;\">\n",
       "      <th></th>\n",
       "      <th>TRACK</th>\n",
       "      <th>NFCSID</th>\n",
       "      <th>STATEQ</th>\n",
       "      <th>CENSUSDIV</th>\n",
       "      <th>CENSUSREG</th>\n",
       "      <th>A3</th>\n",
       "      <th>A3Ar_w</th>\n",
       "      <th>A3B</th>\n",
       "      <th>A4A_new_w</th>\n",
       "      <th>A5_2015</th>\n",
       "      <th>...</th>\n",
       "      <th>M21_4</th>\n",
       "      <th>M6</th>\n",
       "      <th>M7</th>\n",
       "      <th>M8</th>\n",
       "      <th>M31</th>\n",
       "      <th>M9</th>\n",
       "      <th>M10</th>\n",
       "      <th>wgt_n2</th>\n",
       "      <th>wgt_d2</th>\n",
       "      <th>wgt_s3</th>\n",
       "    </tr>\n",
       "  </thead>\n",
       "  <tbody>\n",
       "    <tr>\n",
       "      <th>0</th>\n",
       "      <td>2018</td>\n",
       "      <td>2018010001</td>\n",
       "      <td>48</td>\n",
       "      <td>9</td>\n",
       "      <td>4</td>\n",
       "      <td>2</td>\n",
       "      <td>5</td>\n",
       "      <td>11</td>\n",
       "      <td>1</td>\n",
       "      <td>5</td>\n",
       "      <td>...</td>\n",
       "      <td></td>\n",
       "      <td>1</td>\n",
       "      <td>3</td>\n",
       "      <td>98</td>\n",
       "      <td>98</td>\n",
       "      <td>98</td>\n",
       "      <td>1</td>\n",
       "      <td>0.68368306</td>\n",
       "      <td>0.51964208</td>\n",
       "      <td>1.09518877</td>\n",
       "    </tr>\n",
       "    <tr>\n",
       "      <th>1</th>\n",
       "      <td>2018</td>\n",
       "      <td>2018010002</td>\n",
       "      <td>10</td>\n",
       "      <td>5</td>\n",
       "      <td>3</td>\n",
       "      <td>2</td>\n",
       "      <td>2</td>\n",
       "      <td>8</td>\n",
       "      <td>1</td>\n",
       "      <td>6</td>\n",
       "      <td>...</td>\n",
       "      <td></td>\n",
       "      <td>1</td>\n",
       "      <td>3</td>\n",
       "      <td>98</td>\n",
       "      <td>3</td>\n",
       "      <td>1</td>\n",
       "      <td>98</td>\n",
       "      <td>0.80835753</td>\n",
       "      <td>2.51684077</td>\n",
       "      <td>0.92269329</td>\n",
       "    </tr>\n",
       "    <tr>\n",
       "      <th>2</th>\n",
       "      <td>2018</td>\n",
       "      <td>2018010003</td>\n",
       "      <td>44</td>\n",
       "      <td>7</td>\n",
       "      <td>3</td>\n",
       "      <td>2</td>\n",
       "      <td>2</td>\n",
       "      <td>8</td>\n",
       "      <td>1</td>\n",
       "      <td>6</td>\n",
       "      <td>...</td>\n",
       "      <td></td>\n",
       "      <td>1</td>\n",
       "      <td>1</td>\n",
       "      <td>98</td>\n",
       "      <td>98</td>\n",
       "      <td>1</td>\n",
       "      <td>98</td>\n",
       "      <td>1.02155141</td>\n",
       "      <td>1.89619186</td>\n",
       "      <td>0.67109295</td>\n",
       "    </tr>\n",
       "    <tr>\n",
       "      <th>3</th>\n",
       "      <td>2018</td>\n",
       "      <td>2018010004</td>\n",
       "      <td>10</td>\n",
       "      <td>5</td>\n",
       "      <td>3</td>\n",
       "      <td>2</td>\n",
       "      <td>1</td>\n",
       "      <td>7</td>\n",
       "      <td>1</td>\n",
       "      <td>6</td>\n",
       "      <td>...</td>\n",
       "      <td></td>\n",
       "      <td>98</td>\n",
       "      <td>98</td>\n",
       "      <td>4</td>\n",
       "      <td>4</td>\n",
       "      <td>2</td>\n",
       "      <td>98</td>\n",
       "      <td>0.80835753</td>\n",
       "      <td>2.51684077</td>\n",
       "      <td>0.92269329</td>\n",
       "    </tr>\n",
       "    <tr>\n",
       "      <th>4</th>\n",
       "      <td>2018</td>\n",
       "      <td>2018010005</td>\n",
       "      <td>13</td>\n",
       "      <td>8</td>\n",
       "      <td>4</td>\n",
       "      <td>1</td>\n",
       "      <td>2</td>\n",
       "      <td>2</td>\n",
       "      <td>1</td>\n",
       "      <td>6</td>\n",
       "      <td>...</td>\n",
       "      <td></td>\n",
       "      <td>1</td>\n",
       "      <td>3</td>\n",
       "      <td>98</td>\n",
       "      <td>2</td>\n",
       "      <td>1</td>\n",
       "      <td>98</td>\n",
       "      <td>0.4480747</td>\n",
       "      <td>0.61473322</td>\n",
       "      <td>1.23222123</td>\n",
       "    </tr>\n",
       "  </tbody>\n",
       "</table>\n",
       "<p>5 rows × 112 columns</p>\n",
       "</div>"
      ],
      "text/plain": [
       "  TRACK      NFCSID STATEQ CENSUSDIV CENSUSREG A3 A3Ar_w A3B A4A_new_w  \\\n",
       "0  2018  2018010001     48         9         4  2      5  11         1   \n",
       "1  2018  2018010002     10         5         3  2      2   8         1   \n",
       "2  2018  2018010003     44         7         3  2      2   8         1   \n",
       "3  2018  2018010004     10         5         3  2      1   7         1   \n",
       "4  2018  2018010005     13         8         4  1      2   2         1   \n",
       "\n",
       "  A5_2015  ... M21_4  M6  M7  M8 M31  M9 M10      wgt_n2      wgt_d2  \\\n",
       "0       5  ...         1   3  98  98  98   1  0.68368306  0.51964208   \n",
       "1       6  ...         1   3  98   3   1  98  0.80835753  2.51684077   \n",
       "2       6  ...         1   1  98  98   1  98  1.02155141  1.89619186   \n",
       "3       6  ...        98  98   4   4   2  98  0.80835753  2.51684077   \n",
       "4       6  ...         1   3  98   2   1  98   0.4480747  0.61473322   \n",
       "\n",
       "       wgt_s3  \n",
       "0  1.09518877  \n",
       "1  0.92269329  \n",
       "2  0.67109295  \n",
       "3  0.92269329  \n",
       "4  1.23222123  \n",
       "\n",
       "[5 rows x 112 columns]"
      ]
     },
     "execution_count": 4,
     "metadata": {},
     "output_type": "execute_result"
    }
   ],
   "source": [
    "df1.head()"
   ]
  },
  {
   "cell_type": "code",
   "execution_count": 5,
   "metadata": {},
   "outputs": [
    {
     "data": {
      "text/plain": [
       "      53655\n",
       "5     24438\n",
       "4      9890\n",
       "3      8837\n",
       "2      6311\n",
       "98     2611\n",
       "1      2197\n",
       "99      371\n",
       "Name: J32, dtype: int64"
      ]
     },
     "execution_count": 5,
     "metadata": {},
     "output_type": "execute_result"
    }
   ],
   "source": [
    "df1['J32'].value_counts()"
   ]
  },
  {
   "cell_type": "code",
   "execution_count": 6,
   "metadata": {},
   "outputs": [],
   "source": [
    "#Renaming required columns\n",
    "df2 = df1.rename(columns={'A3':'gender','A3Ar_w':'agegrp', \"A3B\":\"agegen\",'A4A_new_w': \"ethn\", 'A5_2015':'edu' , 'A6':'marital' ,  'A7':'living',\n",
    "     'A7A':'maritalvar',  'A8':'hhincome' ,  'AM21':'armservice',  'AM30':'service',  'AM31':'retired' ,\n",
    "    'AM22':'spousearm', 'A9':'prof' ,  'A10':'profspouse', 'A21_2015':'ptimestudent',\n",
    "     'A22_2015':'currentstudent',  'M6':'interest', 'M7':'inflation',  'M8':'bond',  'M31':'cinterest', 'M9':'mortgage', 'M10':'risk',\n",
    "     'J1':'finsatisfacton',  'J2':'willingrisk', 'J3':'spendingincome',  'J5':'savingunforseen',  'J6':'savingchildedu',\n",
    "     'J32':'creditrecord', 'B1':'fininc1',  'B2':'fininc2',  'B4':'fininc3',  'B14':'invest',  'E7':'homemort',  'E15_2015':'mortpayment',\n",
    "    'F2_1':'creditcardpayment', 'F2_3':'minpayment', 'F2_4':'latefee' ,'F2_5': 'limitfee' , 'G20':'unpaidbil' ,\n",
    "    'G25_2':'paydayloan' , 'G23':'toomuchdebt','M20': 'fineducschool' ,\n",
    "     'M21_1':'fineduchschool' ,  'M21_2_2015':'fineduccollege' ,  'M21_3':'fineducepmloyer' , \n",
    "    'M1_1':'finconfdaytoday' , 'M1_2':'finconf_math' ,  'A14':'mostknowledge' ,  'J20':'howconfident', 'STATEQ':'usstate' ,  'CENSUSDIV':'censusdiv' , 'CENSUSREG':'censusreg' }, errors=\"raise\")\n"
   ]
  },
  {
   "cell_type": "code",
   "execution_count": 7,
   "metadata": {},
   "outputs": [],
   "source": [
    "#Renaming required columns\n",
    "df3 = df2[['gender','agegrp', 'ethn', 'edu', 'marital', 'hhincome', 'armservice',  'service',  'retired',\n",
    "    'spousearm', 'prof', 'profspouse','ptimestudent','currentstudent',  \n",
    "     'finsatisfacton',  'willingrisk', 'spendingincome', 'savingunforseen', 'savingchildedu',\n",
    "     'creditrecord', 'fininc1',  'fininc2',  'fininc3',  'invest',  'homemort',  'mortpayment',\n",
    "    'creditcardpayment', 'minpayment', 'latefee', 'limitfee', 'unpaidbil',\n",
    "    'paydayloan', 'toomuchdebt', 'fineducschool','fineduchschool',  'fineduccollege',  'fineducepmloyer', \n",
    "    'finconfdaytoday', 'finconf_math',  'mostknowledge',  'howconfident', 'usstate',  'censusdiv', 'censusreg',\n",
    "    'interest', 'inflation', 'bond', 'cinterest', 'mortgage', 'risk']]"
   ]
  },
  {
   "cell_type": "code",
   "execution_count": 8,
   "metadata": {},
   "outputs": [],
   "source": [
    "df3 = df3.replace('99', np.nan)\n",
    "df3 = df3.replace('98', np.nan)"
   ]
  },
  {
   "cell_type": "code",
   "execution_count": 9,
   "metadata": {},
   "outputs": [
    {
     "data": {
      "text/plain": [
       "(108310, 50)"
      ]
     },
     "execution_count": 9,
     "metadata": {},
     "output_type": "execute_result"
    }
   ],
   "source": [
    "df3.head()\n",
    "df3.shape"
   ]
  },
  {
   "cell_type": "code",
   "execution_count": 10,
   "metadata": {},
   "outputs": [
    {
     "data": {
      "text/html": [
       "<div>\n",
       "<style scoped>\n",
       "    .dataframe tbody tr th:only-of-type {\n",
       "        vertical-align: middle;\n",
       "    }\n",
       "\n",
       "    .dataframe tbody tr th {\n",
       "        vertical-align: top;\n",
       "    }\n",
       "\n",
       "    .dataframe thead th {\n",
       "        text-align: right;\n",
       "    }\n",
       "</style>\n",
       "<table border=\"1\" class=\"dataframe\">\n",
       "  <thead>\n",
       "    <tr style=\"text-align: right;\">\n",
       "      <th></th>\n",
       "      <th>gender</th>\n",
       "      <th>agegrp</th>\n",
       "      <th>ethn</th>\n",
       "      <th>edu</th>\n",
       "      <th>marital</th>\n",
       "      <th>hhincome</th>\n",
       "      <th>armservice</th>\n",
       "      <th>service</th>\n",
       "      <th>retired</th>\n",
       "      <th>spousearm</th>\n",
       "      <th>...</th>\n",
       "      <th>howconfident</th>\n",
       "      <th>usstate</th>\n",
       "      <th>censusdiv</th>\n",
       "      <th>censusreg</th>\n",
       "      <th>interest</th>\n",
       "      <th>inflation</th>\n",
       "      <th>bond</th>\n",
       "      <th>cinterest</th>\n",
       "      <th>mortgage</th>\n",
       "      <th>risk</th>\n",
       "    </tr>\n",
       "  </thead>\n",
       "  <tbody>\n",
       "    <tr>\n",
       "      <th>0</th>\n",
       "      <td>False</td>\n",
       "      <td>False</td>\n",
       "      <td>False</td>\n",
       "      <td>False</td>\n",
       "      <td>False</td>\n",
       "      <td>False</td>\n",
       "      <td>False</td>\n",
       "      <td>False</td>\n",
       "      <td>False</td>\n",
       "      <td>False</td>\n",
       "      <td>...</td>\n",
       "      <td>False</td>\n",
       "      <td>False</td>\n",
       "      <td>False</td>\n",
       "      <td>False</td>\n",
       "      <td>False</td>\n",
       "      <td>False</td>\n",
       "      <td>True</td>\n",
       "      <td>True</td>\n",
       "      <td>True</td>\n",
       "      <td>False</td>\n",
       "    </tr>\n",
       "    <tr>\n",
       "      <th>1</th>\n",
       "      <td>False</td>\n",
       "      <td>False</td>\n",
       "      <td>False</td>\n",
       "      <td>False</td>\n",
       "      <td>False</td>\n",
       "      <td>False</td>\n",
       "      <td>False</td>\n",
       "      <td>False</td>\n",
       "      <td>False</td>\n",
       "      <td>False</td>\n",
       "      <td>...</td>\n",
       "      <td>False</td>\n",
       "      <td>False</td>\n",
       "      <td>False</td>\n",
       "      <td>False</td>\n",
       "      <td>False</td>\n",
       "      <td>False</td>\n",
       "      <td>True</td>\n",
       "      <td>False</td>\n",
       "      <td>False</td>\n",
       "      <td>True</td>\n",
       "    </tr>\n",
       "    <tr>\n",
       "      <th>2</th>\n",
       "      <td>False</td>\n",
       "      <td>False</td>\n",
       "      <td>False</td>\n",
       "      <td>False</td>\n",
       "      <td>False</td>\n",
       "      <td>False</td>\n",
       "      <td>False</td>\n",
       "      <td>False</td>\n",
       "      <td>False</td>\n",
       "      <td>False</td>\n",
       "      <td>...</td>\n",
       "      <td>False</td>\n",
       "      <td>False</td>\n",
       "      <td>False</td>\n",
       "      <td>False</td>\n",
       "      <td>False</td>\n",
       "      <td>False</td>\n",
       "      <td>True</td>\n",
       "      <td>True</td>\n",
       "      <td>False</td>\n",
       "      <td>True</td>\n",
       "    </tr>\n",
       "    <tr>\n",
       "      <th>3</th>\n",
       "      <td>False</td>\n",
       "      <td>False</td>\n",
       "      <td>False</td>\n",
       "      <td>False</td>\n",
       "      <td>False</td>\n",
       "      <td>False</td>\n",
       "      <td>False</td>\n",
       "      <td>False</td>\n",
       "      <td>False</td>\n",
       "      <td>False</td>\n",
       "      <td>...</td>\n",
       "      <td>False</td>\n",
       "      <td>False</td>\n",
       "      <td>False</td>\n",
       "      <td>False</td>\n",
       "      <td>True</td>\n",
       "      <td>True</td>\n",
       "      <td>False</td>\n",
       "      <td>False</td>\n",
       "      <td>False</td>\n",
       "      <td>True</td>\n",
       "    </tr>\n",
       "    <tr>\n",
       "      <th>4</th>\n",
       "      <td>False</td>\n",
       "      <td>False</td>\n",
       "      <td>False</td>\n",
       "      <td>False</td>\n",
       "      <td>False</td>\n",
       "      <td>False</td>\n",
       "      <td>False</td>\n",
       "      <td>False</td>\n",
       "      <td>False</td>\n",
       "      <td>False</td>\n",
       "      <td>...</td>\n",
       "      <td>False</td>\n",
       "      <td>False</td>\n",
       "      <td>False</td>\n",
       "      <td>False</td>\n",
       "      <td>False</td>\n",
       "      <td>False</td>\n",
       "      <td>True</td>\n",
       "      <td>False</td>\n",
       "      <td>False</td>\n",
       "      <td>True</td>\n",
       "    </tr>\n",
       "    <tr>\n",
       "      <th>...</th>\n",
       "      <td>...</td>\n",
       "      <td>...</td>\n",
       "      <td>...</td>\n",
       "      <td>...</td>\n",
       "      <td>...</td>\n",
       "      <td>...</td>\n",
       "      <td>...</td>\n",
       "      <td>...</td>\n",
       "      <td>...</td>\n",
       "      <td>...</td>\n",
       "      <td>...</td>\n",
       "      <td>...</td>\n",
       "      <td>...</td>\n",
       "      <td>...</td>\n",
       "      <td>...</td>\n",
       "      <td>...</td>\n",
       "      <td>...</td>\n",
       "      <td>...</td>\n",
       "      <td>...</td>\n",
       "      <td>...</td>\n",
       "      <td>...</td>\n",
       "    </tr>\n",
       "    <tr>\n",
       "      <th>108305</th>\n",
       "      <td>False</td>\n",
       "      <td>False</td>\n",
       "      <td>False</td>\n",
       "      <td>False</td>\n",
       "      <td>False</td>\n",
       "      <td>False</td>\n",
       "      <td>False</td>\n",
       "      <td>False</td>\n",
       "      <td>False</td>\n",
       "      <td>False</td>\n",
       "      <td>...</td>\n",
       "      <td>False</td>\n",
       "      <td>False</td>\n",
       "      <td>False</td>\n",
       "      <td>False</td>\n",
       "      <td>True</td>\n",
       "      <td>True</td>\n",
       "      <td>True</td>\n",
       "      <td>False</td>\n",
       "      <td>False</td>\n",
       "      <td>True</td>\n",
       "    </tr>\n",
       "    <tr>\n",
       "      <th>108306</th>\n",
       "      <td>False</td>\n",
       "      <td>False</td>\n",
       "      <td>False</td>\n",
       "      <td>False</td>\n",
       "      <td>False</td>\n",
       "      <td>False</td>\n",
       "      <td>False</td>\n",
       "      <td>False</td>\n",
       "      <td>False</td>\n",
       "      <td>False</td>\n",
       "      <td>...</td>\n",
       "      <td>False</td>\n",
       "      <td>False</td>\n",
       "      <td>False</td>\n",
       "      <td>False</td>\n",
       "      <td>False</td>\n",
       "      <td>False</td>\n",
       "      <td>False</td>\n",
       "      <td>False</td>\n",
       "      <td>False</td>\n",
       "      <td>True</td>\n",
       "    </tr>\n",
       "    <tr>\n",
       "      <th>108307</th>\n",
       "      <td>False</td>\n",
       "      <td>False</td>\n",
       "      <td>False</td>\n",
       "      <td>False</td>\n",
       "      <td>False</td>\n",
       "      <td>False</td>\n",
       "      <td>False</td>\n",
       "      <td>False</td>\n",
       "      <td>False</td>\n",
       "      <td>False</td>\n",
       "      <td>...</td>\n",
       "      <td>False</td>\n",
       "      <td>False</td>\n",
       "      <td>False</td>\n",
       "      <td>False</td>\n",
       "      <td>False</td>\n",
       "      <td>False</td>\n",
       "      <td>True</td>\n",
       "      <td>False</td>\n",
       "      <td>False</td>\n",
       "      <td>False</td>\n",
       "    </tr>\n",
       "    <tr>\n",
       "      <th>108308</th>\n",
       "      <td>False</td>\n",
       "      <td>False</td>\n",
       "      <td>False</td>\n",
       "      <td>False</td>\n",
       "      <td>False</td>\n",
       "      <td>False</td>\n",
       "      <td>False</td>\n",
       "      <td>False</td>\n",
       "      <td>False</td>\n",
       "      <td>False</td>\n",
       "      <td>...</td>\n",
       "      <td>False</td>\n",
       "      <td>False</td>\n",
       "      <td>False</td>\n",
       "      <td>False</td>\n",
       "      <td>False</td>\n",
       "      <td>True</td>\n",
       "      <td>False</td>\n",
       "      <td>False</td>\n",
       "      <td>False</td>\n",
       "      <td>False</td>\n",
       "    </tr>\n",
       "    <tr>\n",
       "      <th>108309</th>\n",
       "      <td>False</td>\n",
       "      <td>False</td>\n",
       "      <td>False</td>\n",
       "      <td>False</td>\n",
       "      <td>False</td>\n",
       "      <td>False</td>\n",
       "      <td>False</td>\n",
       "      <td>False</td>\n",
       "      <td>False</td>\n",
       "      <td>False</td>\n",
       "      <td>...</td>\n",
       "      <td>False</td>\n",
       "      <td>False</td>\n",
       "      <td>False</td>\n",
       "      <td>False</td>\n",
       "      <td>False</td>\n",
       "      <td>False</td>\n",
       "      <td>True</td>\n",
       "      <td>False</td>\n",
       "      <td>False</td>\n",
       "      <td>True</td>\n",
       "    </tr>\n",
       "  </tbody>\n",
       "</table>\n",
       "<p>108310 rows × 50 columns</p>\n",
       "</div>"
      ],
      "text/plain": [
       "        gender  agegrp   ethn    edu  marital  hhincome  armservice  service  \\\n",
       "0        False   False  False  False    False     False       False    False   \n",
       "1        False   False  False  False    False     False       False    False   \n",
       "2        False   False  False  False    False     False       False    False   \n",
       "3        False   False  False  False    False     False       False    False   \n",
       "4        False   False  False  False    False     False       False    False   \n",
       "...        ...     ...    ...    ...      ...       ...         ...      ...   \n",
       "108305   False   False  False  False    False     False       False    False   \n",
       "108306   False   False  False  False    False     False       False    False   \n",
       "108307   False   False  False  False    False     False       False    False   \n",
       "108308   False   False  False  False    False     False       False    False   \n",
       "108309   False   False  False  False    False     False       False    False   \n",
       "\n",
       "        retired  spousearm  ...  howconfident  usstate  censusdiv  censusreg  \\\n",
       "0         False      False  ...         False    False      False      False   \n",
       "1         False      False  ...         False    False      False      False   \n",
       "2         False      False  ...         False    False      False      False   \n",
       "3         False      False  ...         False    False      False      False   \n",
       "4         False      False  ...         False    False      False      False   \n",
       "...         ...        ...  ...           ...      ...        ...        ...   \n",
       "108305    False      False  ...         False    False      False      False   \n",
       "108306    False      False  ...         False    False      False      False   \n",
       "108307    False      False  ...         False    False      False      False   \n",
       "108308    False      False  ...         False    False      False      False   \n",
       "108309    False      False  ...         False    False      False      False   \n",
       "\n",
       "        interest  inflation   bond  cinterest  mortgage   risk  \n",
       "0          False      False   True       True      True  False  \n",
       "1          False      False   True      False     False   True  \n",
       "2          False      False   True       True     False   True  \n",
       "3           True       True  False      False     False   True  \n",
       "4          False      False   True      False     False   True  \n",
       "...          ...        ...    ...        ...       ...    ...  \n",
       "108305      True       True   True      False     False   True  \n",
       "108306     False      False  False      False     False   True  \n",
       "108307     False      False   True      False     False  False  \n",
       "108308     False       True  False      False     False  False  \n",
       "108309     False      False   True      False     False   True  \n",
       "\n",
       "[108310 rows x 50 columns]"
      ]
     },
     "execution_count": 10,
     "metadata": {},
     "output_type": "execute_result"
    }
   ],
   "source": [
    "df3.isnull()"
   ]
  },
  {
   "cell_type": "code",
   "execution_count": 11,
   "metadata": {},
   "outputs": [],
   "source": [
    "rows_before = df3.shape[0]\n",
    "df3 = df3.dropna()\n",
    "rows_after = df3.shape[0]"
   ]
  },
  {
   "cell_type": "code",
   "execution_count": 12,
   "metadata": {},
   "outputs": [
    {
     "data": {
      "text/plain": [
       "72354"
      ]
     },
     "execution_count": 12,
     "metadata": {},
     "output_type": "execute_result"
    }
   ],
   "source": [
    "rows_before - rows_after\n"
   ]
  },
  {
   "cell_type": "code",
   "execution_count": 13,
   "metadata": {},
   "outputs": [],
   "source": [
    "df3['inter'] = df3['interest'].replace(['2', '3'], '0')\n",
    "df3['infl'] = df3['inflation'].replace(['1', '2'], '0')\n",
    "df3['infl'] = df3['infl'].replace(['3'], '1')\n",
    "df3['bnd'] = df3['bond'].replace(['1', '3', '4'], '0')\n",
    "df3['bnd'] = df3['bnd'].replace(['2'], '1')\n",
    "df3['mort'] = df3['mortgage'].replace(['2'], '0')\n",
    "df3['mort'] = df3['mort'].replace(['2'], '1')\n",
    "df3['cinter'] = df3['cinterest'].replace(['1', '3', '4', ' '], '0')\n",
    "df3['cinter'] = df3['cinter'].replace(['2'], '1')\n",
    "df3['rsk'] = df3['risk'].replace(['1'], '0')\n",
    "df3['rsk'] = df3['rsk'].replace(['2'], '1')"
   ]
  },
  {
   "cell_type": "code",
   "execution_count": 14,
   "metadata": {},
   "outputs": [],
   "source": [
    "df3['rsk'] = pd.to_numeric(df3['rsk'])\n",
    "df3['inter'] = pd.to_numeric(df3['inter'])\n",
    "df3['infl'] = pd.to_numeric(df3['infl'])\n",
    "df3['cinter'] = pd.to_numeric(df3['cinter'])\n",
    "df3['bnd'] = pd.to_numeric(df3['bnd'])\n",
    "df3['mort'] = pd.to_numeric(df3['mort'])"
   ]
  },
  {
   "cell_type": "code",
   "execution_count": 15,
   "metadata": {},
   "outputs": [],
   "source": [
    "fl  = df3['rsk'] + df3['mort'] + df3['cinter'] + df3['bnd'] + df3['infl'] + df3['inter']\n",
    "df3['fl'] = fl"
   ]
  },
  {
   "cell_type": "code",
   "execution_count": 16,
   "metadata": {},
   "outputs": [],
   "source": [
    "df3['credit'] = pd.to_numeric(df3['creditrecord'], errors='coerce').fillna(0).astype(int)"
   ]
  },
  {
   "cell_type": "code",
   "execution_count": 17,
   "metadata": {},
   "outputs": [
    {
     "data": {
      "text/plain": [
       "1.9478807431304928"
      ]
     },
     "execution_count": 17,
     "metadata": {},
     "output_type": "execute_result"
    }
   ],
   "source": [
    "df3['credit'].mean()"
   ]
  },
  {
   "cell_type": "code",
   "execution_count": 18,
   "metadata": {},
   "outputs": [],
   "source": [
    "df3['credit_bin'] = df3['credit'].apply(lambda x: 1 if x >= 2 else 0)"
   ]
  },
  {
   "cell_type": "code",
   "execution_count": 19,
   "metadata": {},
   "outputs": [
    {
     "data": {
      "text/plain": [
       "0    19946\n",
       "1    16010\n",
       "Name: credit_bin, dtype: int64"
      ]
     },
     "execution_count": 19,
     "metadata": {},
     "output_type": "execute_result"
    }
   ],
   "source": [
    "df3['credit_bin'].value_counts()"
   ]
  },
  {
   "cell_type": "code",
   "execution_count": 20,
   "metadata": {},
   "outputs": [],
   "source": [
    "#df3['censusreg'] = pd.to_numeric(df3['censusreg'], errors='coerce')\n",
    "df3['gender'] = pd.to_numeric(df3['gender'])\n",
    "df3['agegrp'] = pd.to_numeric(df3['agegrp'])\n",
    "df3['ethn'] = pd.to_numeric(df3['ethn'])\n",
    "df3['edu'] = pd.to_numeric(df3['edu'], errors='coerce').fillna(0).astype(int)\n",
    "df3['marital'] = pd.to_numeric(df3['marital'])\n",
    "df3['hhincome'] = pd.to_numeric(df3['hhincome'])\n",
    "df3['armservice'] = pd.to_numeric(df3['armservice'], errors='coerce').fillna(0).astype(int)\n",
    "df3['retired'] = pd.to_numeric(df3['retired'], errors='coerce').fillna(0).astype(int)\n",
    "df3['prof'] = pd.to_numeric(df3['prof'])\n",
    "df3['profspouse'] = pd.to_numeric(df3['profspouse'], errors='coerce').fillna(0).astype(int)\n",
    "df3['currentstudent'] = pd.to_numeric(df3['currentstudent'], errors='coerce').fillna(0).astype(int)\n",
    "df3['finsatisfacton'] = pd.to_numeric(df3['finsatisfacton'])\n",
    "df3['willingrisk'] = pd.to_numeric(df3['willingrisk'])\n",
    "df3['savingchildedu'] = pd.to_numeric(df3['savingchildedu'], errors='coerce').fillna(0).astype(int)\n",
    "df3['finconfdaytoday'] = pd.to_numeric(df3['finconfdaytoday'])\n",
    "df3['usstate'] = pd.to_numeric(df3['usstate'])\n",
    "df3['censusdiv'] = pd.to_numeric(df3['censusdiv'])\n",
    "df3['censusreg'] = pd.to_numeric(df3['censusreg'])"
   ]
  },
  {
   "cell_type": "code",
   "execution_count": 21,
   "metadata": {},
   "outputs": [],
   "source": [
    "Features = df3[['gender','agegrp','ethn', 'edu', 'marital', 'hhincome', 'armservice', 'retired','prof',\n",
    "               'profspouse','currentstudent', 'finsatisfacton', 'willingrisk', 'savingchildedu','finconfdaytoday','fl', 'usstate','censusdiv','censusreg']]"
   ]
  },
  {
   "cell_type": "code",
   "execution_count": 22,
   "metadata": {},
   "outputs": [
    {
     "data": {
      "text/plain": [
       "array([[ 1.24002122, -1.93622569, -0.54426605, ..., -0.00968403,\n",
       "        -0.45492667, -0.64656976],\n",
       "       [-0.80643781, -1.28873421, -0.54426605, ..., -0.34800403,\n",
       "        -0.06360267,  0.30016677],\n",
       "       [ 1.24002122,  1.30123169, -0.54426605, ..., -1.09230803,\n",
       "        -0.06360267,  0.30016677],\n",
       "       ...,\n",
       "       [ 1.24002122,  1.30123169, -0.54426605, ...,  0.93761198,\n",
       "        -1.62889868, -1.59330629],\n",
       "       [ 1.24002122,  1.30123169, -0.54426605, ...,  0.93761198,\n",
       "        -1.62889868, -1.59330629],\n",
       "       [ 1.24002122,  1.30123169, -0.54426605, ...,  0.93761198,\n",
       "        -1.62889868, -1.59330629]])"
      ]
     },
     "execution_count": 22,
     "metadata": {},
     "output_type": "execute_result"
    }
   ],
   "source": [
    "X = StandardScaler().fit(Features).transform(Features)\n",
    "X"
   ]
  },
  {
   "cell_type": "code",
   "execution_count": 23,
   "metadata": {},
   "outputs": [],
   "source": [
    "y = df3['credit_bin'].values\n"
   ]
  },
  {
   "cell_type": "code",
   "execution_count": 24,
   "metadata": {},
   "outputs": [
    {
     "name": "stdout",
     "output_type": "stream",
     "text": [
      "Optimization terminated successfully.\n",
      "         Current function value: 0.093322\n",
      "         Iterations 9\n",
      "                         Results: Logit\n",
      "================================================================\n",
      "Model:              Logit            Pseudo R-squared: 0.864    \n",
      "Dependent Variable: y                AIC:              6748.9765\n",
      "Date:               2020-12-31 12:26 BIC:              6910.2875\n",
      "No. Observations:   35956            Log-Likelihood:   -3355.5  \n",
      "Df Model:           18               LL-Null:          -24707.  \n",
      "Df Residuals:       35937            LLR p-value:      0.0000   \n",
      "Converged:          1.0000           Scale:            1.0000   \n",
      "No. Iterations:     9.0000                                      \n",
      "----------------------------------------------------------------\n",
      "                 Coef.  Std.Err.    z     P>|z|   [0.025  0.975]\n",
      "----------------------------------------------------------------\n",
      "gender          -0.3688   0.0695  -5.3092 0.0000 -0.5050 -0.2327\n",
      "agegrp          -0.0658   0.0295  -2.2264 0.0260 -0.1236 -0.0079\n",
      "ethn            -1.0931   0.0836 -13.0806 0.0000 -1.2569 -0.9293\n",
      "edu              1.8921   0.0277  68.1974 0.0000  1.8377  1.9465\n",
      "marital         -0.2211   0.0371  -5.9624 0.0000 -0.2938 -0.1484\n",
      "hhincome        -0.2017   0.0209  -9.6663 0.0000 -0.2427 -0.1608\n",
      "armservice       0.8679   0.0437  19.8545 0.0000  0.7822  0.9536\n",
      "retired          1.0670   0.1003  10.6354 0.0000  0.8704  1.2637\n",
      "prof            -0.0180   0.0162  -1.1130 0.2657 -0.0497  0.0137\n",
      "profspouse       0.0054   0.0165   0.3265 0.7440 -0.0270  0.0378\n",
      "currentstudent   0.0881   0.0934   0.9431 0.3456 -0.0950  0.2712\n",
      "finsatisfacton   0.1525   0.0141  10.7786 0.0000  0.1247  0.1802\n",
      "willingrisk     -0.1184   0.0139  -8.5369 0.0000 -0.1456 -0.0912\n",
      "savingchildedu  -0.2234   0.0453  -4.9315 0.0000 -0.3122 -0.1346\n",
      "finconfdaytoday -0.0642   0.0232  -2.7712 0.0056 -0.1096 -0.0188\n",
      "fl              -0.1872   0.0295  -6.3427 0.0000 -0.2450 -0.1294\n",
      "usstate         -0.0102   0.0023  -4.5003 0.0000 -0.0146 -0.0057\n",
      "censusdiv        0.2739   0.0519   5.2759 0.0000  0.1722  0.3757\n",
      "censusreg       -0.8790   0.1237  -7.1070 0.0000 -1.1214 -0.6366\n",
      "================================================================\n",
      "\n"
     ]
    }
   ],
   "source": [
    "import statsmodels.api as sm\n",
    "logit_model=sm.Logit(y,Features)\n",
    "result=logit_model.fit()\n",
    "print(result.summary2())"
   ]
  },
  {
   "cell_type": "code",
   "execution_count": 25,
   "metadata": {},
   "outputs": [],
   "source": [
    "y1 = df3['credit'].values\n",
    "model = sm.OLS(y1, X)\n"
   ]
  },
  {
   "cell_type": "code",
   "execution_count": 26,
   "metadata": {},
   "outputs": [
    {
     "name": "stdout",
     "output_type": "stream",
     "text": [
      "                                 OLS Regression Results                                \n",
      "=======================================================================================\n",
      "Dep. Variable:                      y   R-squared (uncentered):                   0.471\n",
      "Model:                            OLS   Adj. R-squared (uncentered):              0.470\n",
      "Method:                 Least Squares   F-statistic:                              1681.\n",
      "Date:                Thu, 31 Dec 2020   Prob (F-statistic):                        0.00\n",
      "Time:                        12:26:22   Log-Likelihood:                         -78783.\n",
      "No. Observations:               35956   AIC:                                  1.576e+05\n",
      "Df Residuals:                   35937   BIC:                                  1.578e+05\n",
      "Df Model:                          19                                                  \n",
      "Covariance Type:            nonrobust                                                  \n",
      "==============================================================================\n",
      "                 coef    std err          t      P>|t|      [0.025      0.975]\n",
      "------------------------------------------------------------------------------\n",
      "x1             0.0210      0.012      1.751      0.080      -0.003       0.045\n",
      "x2             0.0350      0.015      2.265      0.024       0.005       0.065\n",
      "x3            -0.0500      0.012     -4.131      0.000      -0.074      -0.026\n",
      "x4             1.7967      0.015    122.747      0.000       1.768       1.825\n",
      "x5            -0.0302      0.015     -2.068      0.039      -0.059      -0.002\n",
      "x6            -0.0703      0.014     -4.854      0.000      -0.099      -0.042\n",
      "x7             0.2107      0.014     15.452      0.000       0.184       0.237\n",
      "x8             0.1360      0.012     10.958      0.000       0.112       0.160\n",
      "x9             0.0248      0.014      1.712      0.087      -0.004       0.053\n",
      "x10            0.0211      0.015      1.368      0.171      -0.009       0.051\n",
      "x11            0.1350      0.012     11.356      0.000       0.112       0.158\n",
      "x12            0.1998      0.014     14.651      0.000       0.173       0.227\n",
      "x13           -0.0076      0.013     -0.583      0.560      -0.033       0.018\n",
      "x14           -0.0251      0.012     -2.044      0.041      -0.049      -0.001\n",
      "x15            0.0649      0.012      5.399      0.000       0.041       0.088\n",
      "x16            0.0330      0.013      2.561      0.010       0.008       0.058\n",
      "x17            0.0135      0.012      1.166      0.244      -0.009       0.036\n",
      "x18            0.0425      0.046      0.926      0.354      -0.047       0.132\n",
      "x19           -0.0358      0.046     -0.779      0.436      -0.126       0.054\n",
      "==============================================================================\n",
      "Omnibus:                     4216.570   Durbin-Watson:                   0.316\n",
      "Prob(Omnibus):                  0.000   Jarque-Bera (JB):            12782.642\n",
      "Skew:                           0.623   Prob(JB):                         0.00\n",
      "Kurtosis:                       5.642   Cond. No.                         9.09\n",
      "==============================================================================\n",
      "\n",
      "Warnings:\n",
      "[1] Standard Errors assume that the covariance matrix of the errors is correctly specified.\n"
     ]
    }
   ],
   "source": [
    "results = model.fit()\n",
    "print(results.summary())"
   ]
  },
  {
   "cell_type": "code",
   "execution_count": 27,
   "metadata": {},
   "outputs": [],
   "source": [
    "##Doint Neural Network Analysis to predict credit card behavior"
   ]
  },
  {
   "cell_type": "code",
   "execution_count": 28,
   "metadata": {},
   "outputs": [],
   "source": [
    "# Import Scikit-Learn model\n",
    "from sklearn.neural_network import MLPClassifier"
   ]
  },
  {
   "cell_type": "code",
   "execution_count": 29,
   "metadata": {},
   "outputs": [],
   "source": [
    "#Setup\n",
    "import warnings\n",
    "warnings.filterwarnings(\"ignore\")\n",
    "import numpy as np\n",
    "import pandas as pd\n",
    "import matplotlib.pyplot as plt\n",
    "import seaborn as sns\n",
    "from sklearn.model_selection import train_test_split\n",
    "from sklearn.preprocessing import StandardScaler\n",
    "from sklearn.metrics import confusion_matrix, precision_recall_curve, roc_auc_score, roc_curve, accuracy_score\n",
    "from sklearn.ensemble import RandomForestClassifier"
   ]
  },
  {
   "cell_type": "code",
   "execution_count": 30,
   "metadata": {},
   "outputs": [],
   "source": [
    "## Import Keras objects for Deep Learning\n",
    "from keras.models  import Sequential\n",
    "from keras.layers import Input, Dense, Flatten, Dropout, BatchNormalization\n",
    "from keras.optimizers import Adam, SGD, RMSprop\n"
   ]
  },
  {
   "cell_type": "code",
   "execution_count": 31,
   "metadata": {},
   "outputs": [],
   "source": [
    "# Specify an activation function\n",
    "mlp = MLPClassifier(hidden_layer_sizes=(5,2), activation= 'logistic')"
   ]
  },
  {
   "cell_type": "code",
   "execution_count": 32,
   "metadata": {},
   "outputs": [],
   "source": [
    "X_train, X_test, y_train, y_test = train_test_split(X, y, test_size=0.25, random_state=11111)"
   ]
  },
  {
   "cell_type": "code",
   "execution_count": 33,
   "metadata": {},
   "outputs": [
    {
     "data": {
      "text/plain": [
       "array([0, 1, 1, ..., 0, 0, 0])"
      ]
     },
     "execution_count": 33,
     "metadata": {},
     "output_type": "execute_result"
    }
   ],
   "source": [
    "# Fit and predict data (similar to approach for other sklearn models)\n",
    "mlp.fit(X_train, y_train)\n",
    "mlp.predict(X_test)"
   ]
  },
  {
   "cell_type": "code",
   "execution_count": 34,
   "metadata": {},
   "outputs": [
    {
     "data": {
      "text/plain": [
       "(0.44526643675603517, 0.5547335632439648)"
      ]
     },
     "execution_count": 34,
     "metadata": {},
     "output_type": "execute_result"
    }
   ],
   "source": [
    "np.mean(y), np.mean(1-y)"
   ]
  },
  {
   "cell_type": "code",
   "execution_count": 35,
   "metadata": {},
   "outputs": [
    {
     "data": {
      "text/plain": [
       "RandomForestClassifier(n_estimators=200)"
      ]
     },
     "execution_count": 35,
     "metadata": {},
     "output_type": "execute_result"
    }
   ],
   "source": [
    "### BEGIN SOLUTION\n",
    "## Train the RF Model\n",
    "rf_model = RandomForestClassifier(n_estimators=200)\n",
    "rf_model.fit(X_train, y_train)"
   ]
  },
  {
   "cell_type": "code",
   "execution_count": 36,
   "metadata": {},
   "outputs": [
    {
     "name": "stdout",
     "output_type": "stream",
     "text": [
      "accuracy is 0.988\n",
      "roc-auc is 0.997\n"
     ]
    }
   ],
   "source": [
    "# Make predictions on the test set - both \"hard\" predictions, and the scores (percent of trees voting yes)\n",
    "y_pred_class_rf = rf_model.predict(X_test)\n",
    "y_pred_prob_rf = rf_model.predict_proba(X_test)\n",
    "\n",
    "\n",
    "print('accuracy is {:.3f}'.format(accuracy_score(y_test,y_pred_class_rf)))\n",
    "print('roc-auc is {:.3f}'.format(roc_auc_score(y_test,y_pred_prob_rf[:,1])))"
   ]
  },
  {
   "cell_type": "code",
   "execution_count": 37,
   "metadata": {},
   "outputs": [
    {
     "data": {
      "image/png": "[encoded data removed]",
      "text/plain": [
       "<Figure size 576x576 with 1 Axes>"
      ]
     },
     "metadata": {
      "needs_background": "light"
     },
     "output_type": "display_data"
    }
   ],
   "source": [
    "def plot_roc(y_test, y_pred, model_name):\n",
    "    fpr, tpr, thr = roc_curve(y_test, y_pred)\n",
    "    fig, ax = plt.subplots(figsize=(8, 8))\n",
    "    ax.plot(fpr, tpr, 'k-')\n",
    "    ax.plot([0, 1], [0, 1], 'k--', linewidth=.5)  # roc curve for random model\n",
    "    ax.grid(True)\n",
    "    ax.set(title='ROC Curve for {} on Credit card behavior'.format(model_name),\n",
    "           xlim=[-0.01, 1.01], ylim=[-0.01, 1.01])\n",
    "plot_roc(y_test, y_pred_prob_rf[:, 1], 'RF')\n",
    "### END SOLUTION"
   ]
  },
  {
   "cell_type": "code",
   "execution_count": 38,
   "metadata": {},
   "outputs": [],
   "source": [
    "## First let's normalize the data\n",
    "## This aids the training of neural nets by providing numerical stability\n",
    "## Random Forest does not need this as it finds a split only, as opposed to performing matrix multiplications\n",
    "\n",
    "normalizer = StandardScaler()\n",
    "X_train_norm = normalizer.fit_transform(X_train)\n",
    "X_test_norm = normalizer.transform(X_test)"
   ]
  },
  {
   "cell_type": "code",
   "execution_count": 39,
   "metadata": {},
   "outputs": [],
   "source": [
    "# Define the Model \n",
    "# Input size is 8-dimensional\n",
    "# 1 hidden layer, 12 hidden nodes, sigmoid activation\n",
    "# Final layer has just one node with a sigmoid activation (standard for binary classification)\n",
    "from keras.models import Sequential\n",
    "\n",
    "model_1 = Sequential()\n",
    "model_1.add(Dense(12,input_shape = (8,),activation = 'sigmoid'))\n",
    "model_1.add(Dense(1,activation='sigmoid'))"
   ]
  },
  {
   "cell_type": "code",
   "execution_count": 40,
   "metadata": {},
   "outputs": [
    {
     "name": "stdout",
     "output_type": "stream",
     "text": [
      "Model: \"sequential\"\n",
      "_________________________________________________________________\n",
      "Layer (type)                 Output Shape              Param #   \n",
      "=================================================================\n",
      "dense (Dense)                (None, 12)                108       \n",
      "_________________________________________________________________\n",
      "dense_1 (Dense)              (None, 1)                 13        \n",
      "=================================================================\n",
      "Total params: 121\n",
      "Trainable params: 121\n",
      "Non-trainable params: 0\n",
      "_________________________________________________________________\n"
     ]
    }
   ],
   "source": [
    "model_1.summary()"
   ]
  },
  {
   "cell_type": "code",
   "execution_count": 42,
   "metadata": {},
   "outputs": [],
   "source": [
    "# Like we did for the Random Forest, we generate two kinds of predictions\n",
    "#  One is a hard decision, the other is a probabilitistic score.\n",
    "\n",
    "#y_pred_class_nn_1 = model_1.predict_classes(X_test_norm)\n",
    "#y_pred_prob_nn_1 = model_1.predict(X_test_norm)"
   ]
  },
  {
   "cell_type": "code",
   "execution_count": null,
   "metadata": {},
   "outputs": [],
   "source": []
  },
  {
   "cell_type": "code",
   "execution_count": null,
   "metadata": {},
   "outputs": [],
   "source": []
  },
  {
   "cell_type": "code",
   "execution_count": null,
   "metadata": {},
   "outputs": [],
   "source": []
  },
  {
   "cell_type": "code",
   "execution_count": null,
   "metadata": {},
   "outputs": [],
   "source": []
  },
  {
   "cell_type": "code",
   "execution_count": null,
   "metadata": {},
   "outputs": [],
   "source": []
  },
  {
   "cell_type": "code",
   "execution_count": null,
   "metadata": {},
   "outputs": [],
   "source": []
  },
  {
   "cell_type": "code",
   "execution_count": null,
   "metadata": {},
   "outputs": [],
   "source": [
    "#Visualisng the linear regression model results\n",
    "#plt.scatter(X,y1,color='red')\n",
    "#lt.plot(X,lin_reg.predict(X),color='blue')\n",
    "#plt.title('Truth or bluff(Linear Regression)')\n",
    "#plt.xlabel('Position Level')\n",
    "#plt.ylabel('Salary')\n",
    "#plt.show()"
   ]
  },
  {
   "cell_type": "code",
   "execution_count": 2,
   "metadata": {},
   "outputs": [
    {
     "ename": "NameError",
     "evalue": "name 'df' is not defined",
     "output_type": "error",
     "traceback": [
      "\u001b[0;31m---------------------------------------------------------------------------\u001b[0m",
      "\u001b[0;31mNameError\u001b[0m                                 Traceback (most recent call last)",
      "\u001b[0;32m<ipython-input-2-ebc6afa22528>\u001b[0m in \u001b[0;36m<module>\u001b[0;34m\u001b[0m\n\u001b[0;32m----> 1\u001b[0;31m \u001b[0;32mdef\u001b[0m \u001b[0mget_article_names\u001b[0m\u001b[0;34m(\u001b[0m\u001b[0marticle_ids\u001b[0m\u001b[0;34m,\u001b[0m \u001b[0mdf\u001b[0m\u001b[0;34m=\u001b[0m\u001b[0mdf\u001b[0m\u001b[0;34m)\u001b[0m\u001b[0;34m:\u001b[0m\u001b[0;34m\u001b[0m\u001b[0;34m\u001b[0m\u001b[0m\n\u001b[0m\u001b[1;32m      2\u001b[0m     '''\n\u001b[1;32m      3\u001b[0m     \u001b[0mINPUT\u001b[0m\u001b[0;34m:\u001b[0m\u001b[0;34m\u001b[0m\u001b[0;34m\u001b[0m\u001b[0m\n\u001b[1;32m      4\u001b[0m     \u001b[0marticle_ids\u001b[0m \u001b[0;34m-\u001b[0m \u001b[0;34m(\u001b[0m\u001b[0mlist\u001b[0m\u001b[0;34m)\u001b[0m \u001b[0ma\u001b[0m \u001b[0mlist\u001b[0m \u001b[0mof\u001b[0m \u001b[0marticle\u001b[0m \u001b[0mids\u001b[0m\u001b[0;34m\u001b[0m\u001b[0;34m\u001b[0m\u001b[0m\n\u001b[1;32m      5\u001b[0m     \u001b[0mdf\u001b[0m \u001b[0;34m-\u001b[0m \u001b[0;34m(\u001b[0m\u001b[0mpandas\u001b[0m \u001b[0mdataframe\u001b[0m\u001b[0;34m)\u001b[0m \u001b[0mdf\u001b[0m \u001b[0;32mas\u001b[0m \u001b[0mdefined\u001b[0m \u001b[0mat\u001b[0m \u001b[0mthe\u001b[0m \u001b[0mtop\u001b[0m \u001b[0mof\u001b[0m \u001b[0mthe\u001b[0m \u001b[0mnotebook\u001b[0m\u001b[0;34m\u001b[0m\u001b[0;34m\u001b[0m\u001b[0m\n",
      "\u001b[0;31mNameError\u001b[0m: name 'df' is not defined"
     ]
    }
   ],
   "source": [
    "def get_article_names(article_ids, df=df):\n",
    "    '''\n",
    "    INPUT:\n",
    "    article_ids - (list) a list of article ids\n",
    "    df - (pandas dataframe) df as defined at the top of the notebook\n",
    "    \n",
    "    OUTPUT:\n",
    "    article_names - (list) a list of article names associated with the list of article ids \n",
    "                    (this is identified by the title column)\n",
    "    '''\n",
    "    # Your code here\n",
    "    \n",
    "    article_names = df[df[\"article_id\"].isin(article_ids)][\"title\"].unique().tolist() \n",
    "\n",
    "    return article_names # Return the article names associated with list of article ids\n",
    "\n",
    "\n",
    "def get_user_articles(user_id, user_item=user_item):\n",
    "    '''\n",
    "    INPUT:\n",
    "    user_id - (int) a user id\n",
    "    user_item - (pandas dataframe) matrix of users by articles: \n",
    "                1's when a user has interacted with an article, 0 otherwise\n",
    "    \n",
    "    OUTPUT:\n",
    "    article_ids - (list) a list of the article ids seen by the user\n",
    "    article_names - (list) a list of article names associated with the list of article ids \n",
    "                    (this is identified by the doc_full_name column in df_content)\n",
    "    \n",
    "    Description:\n",
    "    Provides a list of the article_ids and article titles that have been seen by a user\n",
    "    '''\n",
    "    # Your code here\n",
    "    article_ids = list((user_item.iloc[user_id-1][user_item.iloc[user_id-1]==1].index).astype(str))\n",
    "    article_names = get_article_names(article_ids)\n",
    "    return article_ids, article_names # return the ids and names\n",
    "\n",
    "\n",
    "def user_user_recs(user_id, m=10):\n",
    "    '''\n",
    "    INPUT:\n",
    "    user_id - (int) a user id\n",
    "    m - (int) the number of recommendations you want for the user\n",
    "    \n",
    "    OUTPUT:\n",
    "    recs - (list) a list of recommendations for the user\n",
    "    \n",
    "    Description:\n",
    "    Loops through the users based on closeness to the input user_id\n",
    "    For each user - finds articles the user hasn't seen before and provides them as recs\n",
    "    Does this until m recommendations are found\n",
    "    \n",
    "    Notes:\n",
    "    Users who are the same closeness are chosen arbitrarily as the 'next' user\n",
    "    \n",
    "    For the user where the number of recommended articles starts below m \n",
    "    and ends exceeding m, the last items are chosen arbitrarily\n",
    "    \n",
    "    '''\n",
    "    # Your code here\n",
    "    recs = []\n",
    "    similar_user_id = find_similar_users(user_id)\n",
    "    for user_id in similar_user_id:\n",
    "        article_ids, article_names = get_user_articles(user_id)\n",
    "        recs = list(set().union(recs, article_ids)) \n",
    "        if len(recs) >= 10:\n",
    "                break\n",
    "        \n",
    "    return recs # return your recommendations for this user_id   "
   ]
  },
  {
   "cell_type": "code",
   "execution_count": 3,
   "metadata": {},
   "outputs": [],
   "source": [
    "age_check = lambda x: 'Welcome to the site!' \\\n",
    "    if age > 13 \\\n",
    "    else 'Sorry you are too young to enter this site.'"
   ]
  },
  {
   "cell_type": "code",
   "execution_count": null,
   "metadata": {},
   "outputs": [],
   "source": []
  }
 ],
 "metadata": {
  "kernelspec": {
   "display_name": "Python 3.8.3 64-bit",
   "language": "python",
   "name": "python38364bitc570e726e62d4bce9d8172250984dd88"
  },
  "language_info": {
   "codemirror_mode": {
    "name": "ipython",
    "version": 3
   },
   "file_extension": ".py",
   "mimetype": "text/x-python",
   "name": "python",
   "nbconvert_exporter": "python",
   "pygments_lexer": "ipython3",
   "version": "3.8.5"
  }
 },
 "nbformat": 4,
 "nbformat_minor": 4
}
